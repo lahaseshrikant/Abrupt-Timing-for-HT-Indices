{
 "cells": [
  {
   "cell_type": "raw",
   "id": "9a8f5d69",
   "metadata": {},
   "source": [
    "Author: Shrikant Sunil Lahase and Saket Suman\n",
    "Date: 08/06/2024 & 09/06/2024"
   ]
  },
  {
   "cell_type": "markdown",
   "id": "d9e3f446",
   "metadata": {},
   "source": [
    "# Pyhton Code for Calculating Human Thermal Indices (12)"
   ]
  },
  {
   "cell_type": "markdown",
   "id": "438f9279",
   "metadata": {},
   "source": [
    "## Steps:\n",
    "1) All models are in one folder name ' CMIP6_Models'\n",
    "2) Every Folder have 4 scenario's\n",
    "    1) Historical\n",
    "    2) SSP1-2.6\n",
    "    3) SSP2-4.5\n",
    "    4) SSP5-8.5\n",
    "\n",
    "3) Every scenario of models have 3 '.nc' files for Near-Surface-Temperature (tas), Near-Surface-Wind-Speed (sfcWind), Near-Surafce-Raltive  Humidity (hurs). And also have one empty folder name HTI_indices.\n",
    "4) Now This code will iterate through each model and all indices will be stored in their respective destinations. Progress can be seen by bar (using tqdm package)\n",
    "     - HTI Indices will stores in .. Processed_Data/HTI_Indices\n",
    "5) Calculation Vapour Pressure is also needed so, I first claculated Vapour pressure using Tetens Equation\n",
    "\n",
    "    $${\\displaystyle E_a = \\left({\\frac {RH}{100}}\\right) . P } $$\n",
    "    $${\\displaystyle P=0.61078\\exp \\left({\\frac {17.27T}{T+237.3}}\\right)} $$"
   ]
  },
  {
   "cell_type": "code",
   "execution_count": 3,
   "id": "ff51253f",
   "metadata": {},
   "outputs": [],
   "source": [
    "import xarray as xr\n",
    "import numpy as np\n",
    "import os\n",
    "from colorama import Fore, Back, Style\n",
    "from tqdm import tqdm\n",
    "import math"
   ]
  },
  {
   "cell_type": "code",
   "execution_count": 4,
   "id": "56a0aca7",
   "metadata": {},
   "outputs": [],
   "source": [
    "data_dir = \"../Raw_Data/CMIP6_Models/\"\n",
    "models = os.listdir(data_dir)"
   ]
  },
  {
   "cell_type": "code",
   "execution_count": 5,
   "id": "a1715ca7",
   "metadata": {},
   "outputs": [],
   "source": [
    "def load_cmip_data(scenario_dir):\n",
    "    \n",
    "    files = [ os.path.join(scenario_dir, f) for f in os.listdir(scenario_dir) if f.endswith('.nc') ]\n",
    "    dataset = xr.open_mfdataset(files, decode_times=False, compat='override')\n",
    "    \n",
    "    # Manually decode the time coordinate\n",
    "    time = dataset['time']\n",
    "    decoded_time = xr.coding.times.decode_cf_datetime(time, time.units)\n",
    "\n",
    "    # Replace the original time coordinate with the decoded time\n",
    "    dataset['time'] = decoded_time\n",
    "\n",
    "    T = dataset['tas'] - 273.15 # Convert Kelvin to Celsius\n",
    "    V = dataset['sfcWind']\n",
    "    RH = dataset['hurs']\n",
    "    \n",
    "    return T, RH, V"
   ]
  },
  {
   "cell_type": "markdown",
   "id": "23b8a756",
   "metadata": {},
   "source": [
    "### Calculation of Vapour Pressure"
   ]
  },
  {
   "cell_type": "code",
   "execution_count": 7,
   "id": "e3eddb61",
   "metadata": {},
   "outputs": [],
   "source": [
    "def calculate_vapor_pressure(T, RH):\n",
    "    # Tetens formula to calculate vapor pressure (in kPa)\n",
    "    P = 0.61078 * np.exp((17.27 * T) / (T + 237.3))\n",
    "    E_a = (RH / 100) * P\n",
    "    return E_a"
   ]
  },
  {
   "cell_type": "markdown",
   "id": "b3e02755",
   "metadata": {},
   "source": [
    "### Calculation of Indices"
   ]
  },
  {
   "cell_type": "code",
   "execution_count": 9,
   "id": "dd7ef2ee",
   "metadata": {},
   "outputs": [],
   "source": [
    "def calculate_indices(T, RH, V, E_a):\n",
    "    indices = {}\n",
    "    \n",
    "    # Convert Celsius to Fahrenheit\n",
    "    T_F = T * 9 / 5 + 32\n",
    "    \n",
    "    # Simple Heat Index Calculation\n",
    "    HI_simple = 0.5 * (T_F + 61.0 + ((T_F - 68.0) * 1.2) + (RH * 0.094))\n",
    "    HI_simple = (HI_simple + T_F) / 2\n",
    "    \n",
    "    # Initialize HI array\n",
    "    HI = HI_simple.copy()\n",
    "    \n",
    "    # Full regression equation\n",
    "    full_regression = -42.379 + 2.04901523 * T_F + 10.14333127 * RH - 0.22475541 * T_F * RH - 0.00683783 * T_F**2 - 0.05481717 * RH**2 + 0.00122874 * T_F**2 * RH + 0.00085282 * T_F * RH**2 - 0.00000199 * T_F**2 * RH**2\n",
    "    \n",
    "    # Adjustments\n",
    "    low_rh_adjustment = ((13 - RH) / 4) * np.sqrt((17 - np.abs(T_F - 95)) / 17)\n",
    "    high_rh_adjustment = ((RH - 85) / 10) * ((87 - T_F) / 5)\n",
    "    \n",
    "    # Apply full regression where HI_simple >= 80\n",
    "    HI = np.where(HI_simple >= 80, full_regression, HI)\n",
    "    \n",
    "    # Apply low RH adjustment\n",
    "    HI = np.where((RH < 13) & (T_F >= 80) & (T_F <= 112), HI - low_rh_adjustment, HI)\n",
    "    \n",
    "    # Apply high RH adjustment\n",
    "    HI = np.where((RH > 85) & (T_F >= 80) & (T_F <= 87), HI + high_rh_adjustment, HI)\n",
    "    \n",
    "    # Convert HI back to Celsius\n",
    "    HI_C = (HI - 32) * 5 / 9\n",
    "    \n",
    "    indices['HI'] = HI_C\n",
    "    indices['AT_in'] = -1.3 + 0.92 * T + 2.2 * E_a\n",
    "    indices['AT_out'] = -2.7 + 1.04 * T + 2 * E_a - 0.65 * V\n",
    "    WBT = T * np.arctan(0.151977 * (RH + 8.313659)**0.5) + np.arctan(T + RH) - np.arctan(RH - 1.676331) + 0.00391838 * RH**1.5 * np.arctan(0.023101 * RH) - 4.686035\n",
    "    indices['DI'] = 0.5 * WBT + 0.5 * T\n",
    "    indices['ET'] = T - 0.4 * (T - 10) * (1 - 0.001 * RH)\n",
    "    indices['HMI'] = T + 0.5555 * (0.1 * E_a - 10)\n",
    "    indices['MDI'] = 0.75 * WBT + 0.38 * T\n",
    "    indices['SAT'] = T\n",
    "    indices['sWGBT'] = 0.567 * T + 0.0393 * E_a + 3.94\n",
    "    indices['WBT'] = WBT\n",
    "    indices['NET'] = 37 - ((37 - T) / ((0.68 - 0.0014 * RH) + (1 / (1.76 + 1.4 * V**0.75)))) - 0.29 * T * (1 - 0.01 * RH)\n",
    "    indices['WCT'] = 13.12 + 0.6215 * T - 11.37 * (V * 3.6)**0.16 + 0.3965 * T * (V * 3.6)**0.16\n",
    "    \n",
    "    return indices\n"
   ]
  },
  {
   "cell_type": "code",
   "execution_count": 10,
   "id": "0692ba88",
   "metadata": {},
   "outputs": [],
   "source": [
    "def store_indices(indices, storage_dir):\n",
    "    os.makedirs(storage_dir, exist_ok=True)  # Ensure the directory exists\n",
    "    \n",
    "    for index_name, index_values in tqdm(indices.items()):\n",
    "        index_da = xr.DataArray(index_values, dims=T.dims, coords=T.coords, name=index_name)\n",
    "        index_da.to_netcdf(os.path.join(storage_dir, f'{index_name}.nc'))\n",
    "        "
   ]
  },
  {
   "cell_type": "code",
   "execution_count": 11,
   "id": "69fd210c",
   "metadata": {},
   "outputs": [],
   "source": [
    "# Example of custom bar format with color\n",
    "bar_format = f'{Fore.GREEN}{Back.RED}{Style.BRIGHT}{{l_bar}}{{bar}}| {{n_fmt}}/{{total_fmt}} [{Fore.YELLOW}{{elapsed}}<{Fore.CYAN}{{remaining}}, {{rate_fmt}}{{postfix}}]{Style.RESET_ALL}'"
   ]
  },
  {
   "cell_type": "code",
   "execution_count": 12,
   "id": "63634be1",
   "metadata": {},
   "outputs": [
    {
     "name": "stderr",
     "output_type": "stream",
     "text": [
      "\u001b[32m\u001b[41m\u001b[1mProcessing models:   0%|                                                                      | 0/1 [\u001b[33m00:00<\u001b[36m?, ?model/s]\u001b[0m\n",
      "\u001b[32m\u001b[41m\u001b[1mProcessing Scenarios:   0%|                                                                | 0/4 [\u001b[33m00:00<\u001b[36m?, ?scenario/s]\u001b[0m\u001b[AC:\\ProgramData\\anaconda3\\Lib\\site-packages\\xarray\\conventions.py:431: SerializationWarning: variable 'hurs' has multiple fill values {1e+20, 1e+20}, decoding all values to NaN.\n",
      "  new_vars[k] = decode_cf_variable(\n",
      "C:\\ProgramData\\anaconda3\\Lib\\site-packages\\xarray\\conventions.py:431: SerializationWarning: variable 'sfcWind' has multiple fill values {1e+20, 1e+20}, decoding all values to NaN.\n",
      "  new_vars[k] = decode_cf_variable(\n",
      "C:\\ProgramData\\anaconda3\\Lib\\site-packages\\xarray\\conventions.py:431: SerializationWarning: variable 'tas' has multiple fill values {1e+20, 1e+20}, decoding all values to NaN.\n",
      "  new_vars[k] = decode_cf_variable(\n"
     ]
    },
    {
     "name": "stdout",
     "output_type": "stream",
     "text": [
      "Calculation of CESM2 (USA) Historical started\n"
     ]
    },
    {
     "name": "stderr",
     "output_type": "stream",
     "text": [
      "C:\\ProgramData\\anaconda3\\Lib\\site-packages\\dask\\core.py:127: RuntimeWarning: invalid value encountered in sqrt\n",
      "  return func(*(_execute_task(a, cache) for a in args))\n"
     ]
    },
    {
     "name": "stdout",
     "output_type": "stream",
     "text": [
      "Calculation of CESM2 (USA) Historical Done\n"
     ]
    },
    {
     "name": "stderr",
     "output_type": "stream",
     "text": [
      "\n",
      "\n",
      "  0%|                                                                                           | 0/12 [00:00<?, ?it/s]\u001b[A\u001b[A\n",
      "\n",
      "  8%|██████▉                                                                            | 1/12 [00:06<01:08,  6.27s/it]\u001b[A\u001b[A\n",
      "\n",
      " 17%|█████████████▊                                                                     | 2/12 [00:14<01:15,  7.54s/it]\u001b[A\u001b[A\n",
      "\n",
      " 25%|████████████████████▊                                                              | 3/12 [00:26<01:25,  9.53s/it]\u001b[A\u001b[A\n",
      "\n",
      " 33%|███████████████████████████▋                                                       | 4/12 [00:39<01:26, 10.78s/it]\u001b[A\u001b[A\n",
      "\n",
      " 42%|██████████████████████████████████▌                                                | 5/12 [00:48<01:12, 10.38s/it]\u001b[A\u001b[A\n",
      "\n",
      " 50%|█████████████████████████████████████████▌                                         | 6/12 [00:57<00:58,  9.73s/it]\u001b[A\u001b[A\n",
      "\n",
      " 58%|████████████████████████████████████████████████▍                                  | 7/12 [01:13<00:58, 11.75s/it]\u001b[A\u001b[A\n",
      "\n",
      " 67%|███████████████████████████████████████████████████████▎                           | 8/12 [01:20<00:40, 10.16s/it]\u001b[A\u001b[A\n",
      "\n",
      " 75%|██████████████████████████████████████████████████████████████▎                    | 9/12 [01:29<00:29,  9.88s/it]\u001b[A\u001b[A\n",
      "\n",
      " 83%|████████████████████████████████████████████████████████████████████▎             | 10/12 [01:41<00:20, 10.44s/it]\u001b[A\u001b[A\n",
      "\n",
      " 92%|███████████████████████████████████████████████████████████████████████████▏      | 11/12 [01:54<00:11, 11.36s/it]\u001b[A\u001b[A\n",
      "\n",
      "100%|██████████████████████████████████████████████████████████████████████████████████| 12/12 [02:04<00:00, 10.35s/it]\u001b[A\u001b[A\n",
      "\n",
      "\u001b[32m\u001b[41m\u001b[1mProcessing Scenarios:  25%|█████████████▊                                         | 1/4 [\u001b[33m04:59<\u001b[36m14:59, 299.98s/scenario]\u001b[0m\u001b[A"
     ]
    },
    {
     "name": "stdout",
     "output_type": "stream",
     "text": [
      "Calculation of CESM2 (USA) SSP1-2.6 started\n"
     ]
    },
    {
     "name": "stderr",
     "output_type": "stream",
     "text": [
      "C:\\ProgramData\\anaconda3\\Lib\\site-packages\\dask\\core.py:127: RuntimeWarning: invalid value encountered in sqrt\n",
      "  return func(*(_execute_task(a, cache) for a in args))\n"
     ]
    },
    {
     "name": "stdout",
     "output_type": "stream",
     "text": [
      "Calculation of CESM2 (USA) SSP1-2.6 Done\n"
     ]
    },
    {
     "name": "stderr",
     "output_type": "stream",
     "text": [
      "\n",
      "\n",
      "  0%|                                                                                           | 0/12 [00:00<?, ?it/s]\u001b[A\u001b[A\n",
      "\n",
      "  8%|██████▉                                                                            | 1/12 [00:02<00:28,  2.57s/it]\u001b[A\u001b[A\n",
      "\n",
      " 17%|█████████████▊                                                                     | 2/12 [00:06<00:33,  3.35s/it]\u001b[A\u001b[A\n",
      "\n",
      " 25%|████████████████████▊                                                              | 3/12 [00:12<00:42,  4.72s/it]\u001b[A\u001b[A\n",
      "\n",
      " 33%|███████████████████████████▋                                                       | 4/12 [00:19<00:44,  5.51s/it]\u001b[A\u001b[A\n",
      "\n",
      " 42%|██████████████████████████████████▌                                                | 5/12 [00:23<00:33,  4.82s/it]\u001b[A\u001b[A\n",
      "\n",
      " 50%|█████████████████████████████████████████▌                                         | 6/12 [00:27<00:27,  4.55s/it]\u001b[A\u001b[A\n",
      "\n",
      " 58%|████████████████████████████████████████████████▍                                  | 7/12 [00:34<00:27,  5.54s/it]\u001b[A\u001b[A\n",
      "\n",
      " 67%|███████████████████████████████████████████████████████▎                           | 8/12 [00:38<00:19,  4.97s/it]\u001b[A\u001b[A\n",
      "\n",
      " 75%|██████████████████████████████████████████████████████████████▎                    | 9/12 [00:43<00:15,  5.13s/it]\u001b[A\u001b[A\n",
      "\n",
      " 83%|████████████████████████████████████████████████████████████████████▎             | 10/12 [00:50<00:11,  5.60s/it]\u001b[A\u001b[A\n",
      "\n",
      " 92%|███████████████████████████████████████████████████████████████████████████▏      | 11/12 [00:56<00:05,  5.72s/it]\u001b[A\u001b[A\n",
      "\n",
      "100%|██████████████████████████████████████████████████████████████████████████████████| 12/12 [01:01<00:00,  5.13s/it]\u001b[A\u001b[A\n",
      "\n",
      "\u001b[32m\u001b[41m\u001b[1mProcessing Scenarios:  50%|███████████████████████████▌                           | 2/4 [\u001b[33m06:23<\u001b[36m05:45, 172.77s/scenario]\u001b[0m\u001b[A"
     ]
    },
    {
     "name": "stdout",
     "output_type": "stream",
     "text": [
      "Calculation of CESM2 (USA) SSP2-4.5 started\n"
     ]
    },
    {
     "name": "stderr",
     "output_type": "stream",
     "text": [
      "C:\\ProgramData\\anaconda3\\Lib\\site-packages\\dask\\core.py:127: RuntimeWarning: invalid value encountered in sqrt\n",
      "  return func(*(_execute_task(a, cache) for a in args))\n"
     ]
    },
    {
     "name": "stdout",
     "output_type": "stream",
     "text": [
      "Calculation of CESM2 (USA) SSP2-4.5 Done\n"
     ]
    },
    {
     "name": "stderr",
     "output_type": "stream",
     "text": [
      "\n",
      "\n",
      "  0%|                                                                                           | 0/12 [00:00<?, ?it/s]\u001b[A\u001b[A\n",
      "\n",
      "  8%|██████▉                                                                            | 1/12 [00:01<00:21,  1.93s/it]\u001b[A\u001b[A\n",
      "\n",
      " 17%|█████████████▊                                                                     | 2/12 [00:05<00:30,  3.00s/it]\u001b[A\u001b[A\n",
      "\n",
      " 25%|████████████████████▊                                                              | 3/12 [00:10<00:35,  3.93s/it]\u001b[A\u001b[A\n",
      "\n",
      " 33%|███████████████████████████▋                                                       | 4/12 [00:16<00:37,  4.63s/it]\u001b[A\u001b[A\n",
      "\n",
      " 42%|██████████████████████████████████▌                                                | 5/12 [00:19<00:28,  4.04s/it]\u001b[A\u001b[A\n",
      "\n",
      " 50%|█████████████████████████████████████████▌                                         | 6/12 [00:22<00:22,  3.82s/it]\u001b[A\u001b[A\n",
      "\n",
      " 58%|████████████████████████████████████████████████▍                                  | 7/12 [00:28<00:21,  4.33s/it]\u001b[A\u001b[A\n",
      "\n",
      " 67%|███████████████████████████████████████████████████████▎                           | 8/12 [00:30<00:14,  3.65s/it]\u001b[A\u001b[A\n",
      "\n",
      " 75%|██████████████████████████████████████████████████████████████▎                    | 9/12 [00:33<00:10,  3.54s/it]\u001b[A\u001b[A\n",
      "\n",
      " 83%|████████████████████████████████████████████████████████████████████▎             | 10/12 [00:39<00:08,  4.25s/it]\u001b[A\u001b[A\n",
      "\n",
      " 92%|███████████████████████████████████████████████████████████████████████████▏      | 11/12 [00:45<00:04,  4.64s/it]\u001b[A\u001b[A\n",
      "\n",
      "100%|██████████████████████████████████████████████████████████████████████████████████| 12/12 [00:49<00:00,  4.09s/it]\u001b[A\u001b[A\n",
      "\n",
      "\u001b[32m\u001b[41m\u001b[1mProcessing Scenarios:  75%|█████████████████████████████████████████▎             | 3/4 [\u001b[33m07:28<\u001b[36m02:03, 123.68s/scenario]\u001b[0m\u001b[A"
     ]
    },
    {
     "name": "stdout",
     "output_type": "stream",
     "text": [
      "Calculation of CESM2 (USA) SSP5-8.5 started\n"
     ]
    },
    {
     "name": "stderr",
     "output_type": "stream",
     "text": [
      "C:\\ProgramData\\anaconda3\\Lib\\site-packages\\dask\\core.py:127: RuntimeWarning: invalid value encountered in sqrt\n",
      "  return func(*(_execute_task(a, cache) for a in args))\n"
     ]
    },
    {
     "name": "stdout",
     "output_type": "stream",
     "text": [
      "Calculation of CESM2 (USA) SSP5-8.5 Done\n"
     ]
    },
    {
     "name": "stderr",
     "output_type": "stream",
     "text": [
      "\n",
      "\n",
      "  0%|                                                                                           | 0/12 [00:00<?, ?it/s]\u001b[A\u001b[A\n",
      "\n",
      "  8%|██████▉                                                                            | 1/12 [00:03<00:35,  3.19s/it]\u001b[A\u001b[A\n",
      "\n",
      " 17%|█████████████▊                                                                     | 2/12 [00:09<00:47,  4.73s/it]\u001b[A\u001b[A\n",
      "\n",
      " 25%|████████████████████▊                                                              | 3/12 [00:15<00:49,  5.50s/it]\u001b[A\u001b[A\n",
      "\n",
      " 33%|███████████████████████████▋                                                       | 4/12 [00:22<00:48,  6.09s/it]\u001b[A\u001b[A\n",
      "\n",
      " 42%|██████████████████████████████████▌                                                | 5/12 [00:25<00:36,  5.17s/it]\u001b[A\u001b[A\n",
      "\n",
      " 50%|█████████████████████████████████████████▌                                         | 6/12 [00:30<00:29,  4.95s/it]\u001b[A\u001b[A\n",
      "\n",
      " 58%|████████████████████████████████████████████████▍                                  | 7/12 [00:36<00:27,  5.40s/it]\u001b[A\u001b[A\n",
      "\n",
      " 67%|███████████████████████████████████████████████████████▎                           | 8/12 [00:39<00:18,  4.68s/it]\u001b[A\u001b[A\n",
      "\n",
      " 75%|██████████████████████████████████████████████████████████████▎                    | 9/12 [00:43<00:13,  4.48s/it]\u001b[A\u001b[A\n",
      "\n",
      " 83%|████████████████████████████████████████████████████████████████████▎             | 10/12 [00:50<00:10,  5.12s/it]\u001b[A\u001b[A\n",
      "\n",
      " 92%|███████████████████████████████████████████████████████████████████████████▏      | 11/12 [01:00<00:06,  6.56s/it]\u001b[A\u001b[A\n",
      "\n",
      "100%|██████████████████████████████████████████████████████████████████████████████████| 12/12 [01:05<00:00,  5.50s/it]\u001b[A\u001b[A\n",
      "\n",
      "\u001b[32m\u001b[41m\u001b[1mProcessing Scenarios: 100%|███████████████████████████████████████████████████████| 4/4 [\u001b[33m08:55<\u001b[36m00:00, 133.86s/scenario]\u001b[0m\u001b[A\n",
      "\u001b[32m\u001b[41m\u001b[1mProcessing models: 100%|█████████████████████████████████████████████████████████████| 1/1 [\u001b[33m08:55<\u001b[36m00:00, 535.44s/model]\u001b[0m\n"
     ]
    }
   ],
   "source": [
    "total_models = len(models)\n",
    "with tqdm(total=total_models, desc=\"Processing models\", unit=\"model\", bar_format=bar_format) as pbar_main:\n",
    "    \n",
    "    for model in models:\n",
    "        model_dir = os.path.join(data_dir, model)\n",
    "        scenarios = os.listdir(model_dir)\n",
    "    \n",
    "        total_scenarios = len(scenarios)\n",
    "        with tqdm(total=total_scenarios, desc=\"Processing Scenarios\", unit=\"scenario\", bar_format=bar_format) as pbar:\n",
    "            for scenario in scenarios:\n",
    "                scenario_dir = os.path.join(model_dir, scenario)\n",
    "                \n",
    "                T, RH, V = load_cmip_data(scenario_dir)\n",
    "                E_a = calculate_vapor_pressure(T, RH)\n",
    "                print(f'Calculation of {model} {scenario} started')\n",
    "                indices = calculate_indices(T, RH, V, E_a)\n",
    "                print(f'Calculation of {model} {scenario} Done')\n",
    "                HT_indices_dir = \"../Processed_Data/HTI_Indices/\"\n",
    "                storage_dir = os.path.join(HT_indices_dir,model,scenario)\n",
    "                store_indices(indices, storage_dir)\n",
    "                pbar.update(1)\n",
    "        pbar_main.update(1)"
   ]
  },
  {
   "cell_type": "markdown",
   "id": "141a9a0b",
   "metadata": {},
   "source": [
    "## 12 Indices Equations\n",
    "\n",
    "| $$\\text{Name}$$  | $$\\text{Representation}$$ | $$\\text{Expression}$$ |\n",
    "|----------|----------|------------|\n",
    "| $$ \\text{Apparent Temperature (indoors)} $$ | $$AT_{in}$$ | $$-1.3 + 0.92 \\cdot T + 2.2 \\cdot E_a$$ |\n",
    "| | $$AT_{out}$$ | $$-2.7 + 1.04 \\cdot T + 2 \\cdot E_a - 0.65 \\cdot V$$ |\n",
    "| | $$WBT$$ | $$T \\cdot \\arctan(0.151977 \\cdot (\\text{RH} + 8.313659)^{0.5}) + \\arctan(T + \\text{RH}) - \\arctan(\\text{RH} - 1.676331) + 0.00391838 \\cdot \\text{RH}^{1.5} \\cdot \\arctan(0.023101 \\cdot \\text{RH}) - 4.686035$$ |\n",
    "| | $$DI$$ | $$0.5 \\cdot WBT + 0.5 \\cdot T$$ |\n",
    "| | $$ET$$ | $$T - 0.4 \\cdot (T - 10) \\cdot (1 - 0.001 \\cdot \\text{RH})$$ |\n",
    "| | $$HI$$ | $$-8.784695 + 1.61139411 \\cdot T - 2.338549 \\cdot \\text{RH} - 0.14611605 \\cdot T \\cdot \\text{RH} - 1.2308094e-2 \\cdot T^{2} - 1.6424828e-2 \\cdot \\text{RH}^{2} + 2.211732e-3 \\cdot T^{2} \\cdot \\text{RH} + 7.2546e-4 \\cdot T \\cdot \\text{RH}^{2} + 3.582e-6 \\cdot T^{2} \\cdot \\text{RH}^{2}$$ |\n",
    "| | $$HMI$$ | $$T + 0.5555 \\cdot (0.1 \\cdot E_a - 10)$$ |\n",
    "| | $$MDI$$ | $$0.75 \\cdot WBT + 0.38 \\cdot T$$ |\n",
    "| $$ \\text{Surface Air Temperature}$$ | $$SAT$$ | $$T$$ |\n",
    "| | $$sWGBT$$ | $$0.567 \\cdot T + 0.0393 \\cdot E_a + 3.94$$ |\n",
    "| | $$WBT$$ | $$WBT$$ |\n",
    "| | $$NET$$ | $$37 - ((37 - T) / ((0.68 - 0.0014 \\cdot RH) + (1 / (1.76 + 1.4 \\cdot V^{0.75}))))) - 0.29 \\cdot T \\cdot (1 - 0.01 \\cdot RH)$$ |\n",
    "| | $$WCT$$ | $$13.12 + 0.6215 \\cdot T - 11.37 \\cdot (V^{3/2})^{0.16} + 0.3965 \\cdot T^{1/16}$$ |"
   ]
  },
  {
   "cell_type": "markdown",
   "id": "421b6f6c",
   "metadata": {},
   "source": [
    "$$ \\text{Equations of the 12 thermal indices. } T \\text{ is air temperature (°C)}  \\text{ at 2-meter height, }$$ $$\\text{ RH  is relative humidity } \\text {(%), } \\text{ V is wind speed (m/s), } \\text{and }E_a \\text{ is actual vapor pressure (kPa). } $$ $$ \\text { The unit of all human thermal indices is degree Celsius (°C).} $$"
   ]
  },
  {
   "cell_type": "code",
   "execution_count": null,
   "id": "125837da-0788-41fc-852d-9b4bfec68369",
   "metadata": {},
   "outputs": [],
   "source": []
  },
  {
   "cell_type": "code",
   "execution_count": null,
   "id": "ade09ece-0456-46d9-ae46-c5988f996958",
   "metadata": {},
   "outputs": [],
   "source": []
  }
 ],
 "metadata": {
  "kernelspec": {
   "display_name": "Python 3 (ipykernel)",
   "language": "python",
   "name": "python3"
  },
  "language_info": {
   "codemirror_mode": {
    "name": "ipython",
    "version": 3
   },
   "file_extension": ".py",
   "mimetype": "text/x-python",
   "name": "python",
   "nbconvert_exporter": "python",
   "pygments_lexer": "ipython3",
   "version": "3.11.7"
  }
 },
 "nbformat": 4,
 "nbformat_minor": 5
}
