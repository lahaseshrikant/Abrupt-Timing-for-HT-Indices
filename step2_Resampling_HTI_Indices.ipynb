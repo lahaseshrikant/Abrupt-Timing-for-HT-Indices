{
 "cells": [
  {
   "cell_type": "code",
   "execution_count": 1,
   "id": "6498db12",
   "metadata": {},
   "outputs": [],
   "source": [
    "import xarray as xr\n",
    "import rioxarray\n",
    "from rasterio.enums import Resampling\n",
    "import numpy as np\n",
    "import os\n",
    "from tqdm import tqdm\n",
    "from colorama import Fore, Back, Style\n",
    "import math"
   ]
  },
  {
   "cell_type": "code",
   "execution_count": 2,
   "id": "dd25c284",
   "metadata": {},
   "outputs": [],
   "source": [
    "def check_and_assign_crs(indices_nc_path, koppen_tif_path):\n",
    "    \n",
    "    # Load indices and Koppen map data\n",
    "    indices_data = xr.open_dataset(indices_nc_path)\n",
    "    koppen_data = rioxarray.open_rasterio(koppen_tif_path)\n",
    "    \n",
    "    # Get CRS of Koppen map\n",
    "    koppen_crs = koppen_data.rio.crs\n",
    "    \n",
    "    # Assign CRS to indices data if not present\n",
    "    if not indices_data.rio.crs:\n",
    "        indices_data = indices_data.rio.write_crs(koppen_crs)\n",
    "    \n",
    "    return indices_data, koppen_data"
   ]
  },
  {
   "cell_type": "code",
   "execution_count": 3,
   "id": "4ff34a3a",
   "metadata": {},
   "outputs": [],
   "source": [
    "def convert_longitudes(indices_data):\n",
    "    # Convert longitudes from 0-360 to -180 to 180 if necessary\n",
    "    if indices_data.lon.max() > 180:\n",
    "        indices_data['lon'] = ((indices_data['lon'] + 180) % 360) - 180\n",
    "        indices_data = indices_data.sortby(indices_data.lon)\n",
    "    return indices_data"
   ]
  },
  {
   "cell_type": "code",
   "execution_count": 4,
   "id": "d1153e61",
   "metadata": {},
   "outputs": [],
   "source": [
    "def set_spatial_dims(indices_data):\n",
    "    # Set spatial dimensions\n",
    "    indices_data = indices_data.rename({'lon': 'x', 'lat': 'y'})\n",
    "    return indices_data"
   ]
  },
  {
   "cell_type": "code",
   "execution_count": 5,
   "id": "95a45ce2",
   "metadata": {},
   "outputs": [],
   "source": [
    "def resample_to_match_resolution(indices_data, koppen_data, output_nc_path):\n",
    "    # Reproject indices data to match Koppen map resolution and grid\n",
    "    resampled_indices = indices_data.rio.reproject_match(\n",
    "        koppen_data,\n",
    "        resampling=Resampling.bilinear  # Using bilinear interpolation\n",
    "    )\n",
    "    # Save the resampled indices data\n",
    "    resampled_indices.to_netcdf(output_nc_path)"
   ]
  },
  {
   "cell_type": "code",
   "execution_count": 6,
   "id": "c14ff784",
   "metadata": {},
   "outputs": [],
   "source": [
    "# Define paths to your data\n",
    "koppen_tif_path = '../Raw_Data/koppen_geiger_0p5.tif'\n",
    "\n",
    "# Loop through all models and indices\n",
    "models_dir = '../Processed_Data/HTI_Indices/'\n",
    "output_dir = '../Processed_Data/HTI_Indices_Resampled/'\n",
    "if not os.path.exists(output_dir):\n",
    "    os.makedirs(output_dir)"
   ]
  },
  {
   "cell_type": "code",
   "execution_count": 7,
   "id": "9e3f4ef8",
   "metadata": {},
   "outputs": [
    {
     "name": "stderr",
     "output_type": "stream",
     "text": [
      "Processing Varibles: 100%|█████████████████████████████████████████████████████████████| 12/12 [10:41<00:00, 53.45s/it]\n",
      "Processing Varibles: 100%|█████████████████████████████████████████████████████████████| 12/12 [04:54<00:00, 24.53s/it]\n",
      "Processing Varibles: 100%|█████████████████████████████████████████████████████████████| 12/12 [06:32<00:00, 32.75s/it]\n",
      "Processing Varibles: 100%|█████████████████████████████████████████████████████████████| 12/12 [05:25<00:00, 27.16s/it]\n"
     ]
    }
   ],
   "source": [
    "for model_name in os.listdir(models_dir):\n",
    "    model_path = os.path.join(models_dir, model_name)\n",
    "    \n",
    "    if os.path.isdir(model_path):\n",
    "        \n",
    "        for scenario in os.listdir(model_path):\n",
    "            scenario_path = os.path.join(model_path, scenario)\n",
    "            \n",
    "            if os.path.isdir(scenario_path):\n",
    "                \n",
    "                for index_name in tqdm(os.listdir(scenario_path),'Processing Varibles'):\n",
    "                    index_path = os.path.join(scenario_path, index_name)\n",
    "                    if index_path.endswith('.nc'):\n",
    "                        index_data, koppen_data = check_and_assign_crs(index_path, koppen_tif_path)\n",
    "                        index_data = convert_longitudes(index_data)\n",
    "                        index_data = set_spatial_dims(index_data)\n",
    "                        \n",
    "                        output_HTI_Index_Resampled_nc_path = os.path.join(output_dir,model_name,scenario,f'resampled_{index_name}')\n",
    "                        os.makedirs(os.path.dirname(output_HTI_Index_Resampled_nc_path), exist_ok=True)\n",
    "                        resample_to_match_resolution(index_data, koppen_data, output_HTI_Index_Resampled_nc_path)"
   ]
  },
  {
   "cell_type": "code",
   "execution_count": null,
   "id": "39a96173",
   "metadata": {},
   "outputs": [],
   "source": []
  }
 ],
 "metadata": {
  "kernelspec": {
   "display_name": "Python 3 (ipykernel)",
   "language": "python",
   "name": "python3"
  },
  "language_info": {
   "codemirror_mode": {
    "name": "ipython",
    "version": 3
   },
   "file_extension": ".py",
   "mimetype": "text/x-python",
   "name": "python",
   "nbconvert_exporter": "python",
   "pygments_lexer": "ipython3",
   "version": "3.11.7"
  }
 },
 "nbformat": 4,
 "nbformat_minor": 5
}
