{
 "cells": [
  {
   "cell_type": "markdown",
   "id": "3fa94a31",
   "metadata": {},
   "source": [
    "## Importing Required Packages"
   ]
  },
  {
   "cell_type": "code",
   "execution_count": 1,
   "id": "16db3e45",
   "metadata": {},
   "outputs": [],
   "source": [
    "import os\n",
    "import numpy as np\n",
    "import pandas as pd\n",
    "import statistics\n",
    "import rioxarray\n",
    "import xarray as xr\n",
    "import rasterio\n",
    "import statistics\n",
    "from tqdm import tqdm"
   ]
  },
  {
   "cell_type": "markdown",
   "id": "988acf0d",
   "metadata": {},
   "source": [
    "## Function to convert data to annualy"
   ]
  },
  {
   "cell_type": "code",
   "execution_count": 2,
   "id": "b17ed7b5",
   "metadata": {},
   "outputs": [],
   "source": [
    "def aggregate_to_annual(data_array):\n",
    "    \"\"\"\n",
    "    Aggregate monthly data to annual values.\n",
    "    \"\"\"\n",
    "    return data_array.resample(time='A').mean(dim='time')"
   ]
  },
  {
   "cell_type": "markdown",
   "id": "cfef731f",
   "metadata": {},
   "source": [
    "## Function to calculate max and min value per cell\n",
    "Also also applying first filter"
   ]
  },
  {
   "cell_type": "code",
   "execution_count": 3,
   "id": "824c7a3e",
   "metadata": {},
   "outputs": [],
   "source": [
    "def calculate_max_min_per_cell(data_array):\n",
    "    \n",
    "    # Calculate the maximum and minimum values excluding outliers\n",
    "    \n",
    "    # mean_val = data_array.mean(dim='time')\n",
    "    # std_val = data_array.std(dim='time')\n",
    "    \n",
    "    # Exclude outliers within each grid cell\n",
    "    # valid_data = data_array.where((data_array >= (mean_val - 3 * std_val)) & (data_array <= (mean_val + 3 * std_val)), other=np.nan)\n",
    "    \n",
    "    valid_data = data_array\n",
    "    \n",
    "    # Calculate the maximum and minimum values for each cell after excluding outliers\n",
    "    max_val_per_cell = valid_data.max(dim='time')\n",
    "    min_val_per_cell = valid_data.min(dim='time')\n",
    "    \n",
    "    return max_val_per_cell, min_val_per_cell"
   ]
  },
  {
   "cell_type": "markdown",
   "id": "c70fc77c",
   "metadata": {},
   "source": [
    "## Load Data"
   ]
  },
  {
   "cell_type": "code",
   "execution_count": 4,
   "id": "95ce817c",
   "metadata": {},
   "outputs": [],
   "source": [
    "# Define paths to your data\n",
    "data_dir = \"../Processed_Data/HTI_Indices_Resampled/\"\n",
    "koppen_map_path = \"../Raw_Data/koppen_geiger_0p5.tif\"\n",
    "output_path = \"../Processed Data/Output of analysis\"\n",
    "\n",
    "# Load Koppen map\n",
    "koppen_data = rioxarray.open_rasterio(koppen_map_path).squeeze()\n",
    "regions = np.unique(koppen_data)\n",
    "\n",
    "# Models and indices\n",
    "models = os.listdir(data_dir)\n",
    "scenarios = ['Historical','SSP1-2.6','SSP2-4.5','SSP5-8.5']\n",
    "indices = [\"AT_in\", \"AT_out\", \"DI\", \"ET\", \"HI\", \"HMI\", \"MDI\", \"NET\", \"SAT\", \"sWGBT\", \"WBT\", \"WCT\"]  # Replace with actual indices names\n",
    "\n",
    "max_min_results = {region: {index: {model: {scenario: {\"max\": None, \"min\": None, \"max_cross_consi\": None, \"min_cross_consi\": None, \"max_cross_years\": [], \"min_cross_years\": []} for scenario in scenarios} for model in models} for index in indices}  for region in regions}"
   ]
  },
  {
   "cell_type": "markdown",
   "id": "0dfe4544",
   "metadata": {},
   "source": [
    "## Finding Max and Min Values of Indices on historical Period (1850-2014)"
   ]
  },
  {
   "cell_type": "code",
   "execution_count": 5,
   "id": "675d332c",
   "metadata": {},
   "outputs": [
    {
     "name": "stdout",
     "output_type": "stream",
     "text": [
      "Precssing of ACCESS-CM2 (Australia) is started\n"
     ]
    },
    {
     "name": "stderr",
     "output_type": "stream",
     "text": [
      "processing Indices: 100%|██████████████████████████████████████████████████████████████| 12/12 [04:38<00:00, 23.21s/it]\n"
     ]
    },
    {
     "name": "stdout",
     "output_type": "stream",
     "text": [
      "Processing of ACCESS-CM2 (Australia) is Done\n",
      "\n",
      "Precssing of ACCESS-ESM1-5 (Australia) is started\n"
     ]
    },
    {
     "name": "stderr",
     "output_type": "stream",
     "text": [
      "processing Indices: 100%|██████████████████████████████████████████████████████████████| 12/12 [05:29<00:00, 27.46s/it]\n"
     ]
    },
    {
     "name": "stdout",
     "output_type": "stream",
     "text": [
      "Processing of ACCESS-ESM1-5 (Australia) is Done\n",
      "\n",
      "Precssing of CanESM5 (Canada) is started\n"
     ]
    },
    {
     "name": "stderr",
     "output_type": "stream",
     "text": [
      "processing Indices: 100%|██████████████████████████████████████████████████████████████| 12/12 [04:50<00:00, 24.23s/it]\n"
     ]
    },
    {
     "name": "stdout",
     "output_type": "stream",
     "text": [
      "Processing of CanESM5 (Canada) is Done\n",
      "\n",
      "Precssing of CanESM5-CanOE (Canada) is started\n"
     ]
    },
    {
     "name": "stderr",
     "output_type": "stream",
     "text": [
      "processing Indices: 100%|██████████████████████████████████████████████████████████████| 12/12 [06:47<00:00, 33.92s/it]\n"
     ]
    },
    {
     "name": "stdout",
     "output_type": "stream",
     "text": [
      "Processing of CanESM5-CanOE (Canada) is Done\n",
      "\n",
      "Precssing of CESM2 (USA) is started\n"
     ]
    },
    {
     "name": "stderr",
     "output_type": "stream",
     "text": [
      "processing Indices: 100%|██████████████████████████████████████████████████████████████| 12/12 [05:32<00:00, 27.68s/it]\n"
     ]
    },
    {
     "name": "stdout",
     "output_type": "stream",
     "text": [
      "Processing of CESM2 (USA) is Done\n",
      "\n",
      "Precssing of CMCC-CM2-SR5 (Italy) is started\n"
     ]
    },
    {
     "name": "stderr",
     "output_type": "stream",
     "text": [
      "processing Indices: 100%|██████████████████████████████████████████████████████████████| 12/12 [04:50<00:00, 24.24s/it]\n"
     ]
    },
    {
     "name": "stdout",
     "output_type": "stream",
     "text": [
      "Processing of CMCC-CM2-SR5 (Italy) is Done\n",
      "\n",
      "Precssing of CMCC-ESM2 (Italy) is started\n"
     ]
    },
    {
     "name": "stderr",
     "output_type": "stream",
     "text": [
      "processing Indices: 100%|██████████████████████████████████████████████████████████████| 12/12 [06:51<00:00, 34.26s/it]\n"
     ]
    },
    {
     "name": "stdout",
     "output_type": "stream",
     "text": [
      "Processing of CMCC-ESM2 (Italy) is Done\n",
      "\n",
      "Precssing of CNRM-CM6-1 (France) is started\n"
     ]
    },
    {
     "name": "stderr",
     "output_type": "stream",
     "text": [
      "processing Indices: 100%|██████████████████████████████████████████████████████████████| 12/12 [05:40<00:00, 28.40s/it]\n"
     ]
    },
    {
     "name": "stdout",
     "output_type": "stream",
     "text": [
      "Processing of CNRM-CM6-1 (France) is Done\n",
      "\n",
      "Precssing of CNRM-CM6-1-HR (France) is started\n"
     ]
    },
    {
     "name": "stderr",
     "output_type": "stream",
     "text": [
      "processing Indices: 100%|██████████████████████████████████████████████████████████████| 12/12 [05:06<00:00, 25.55s/it]\n"
     ]
    },
    {
     "name": "stdout",
     "output_type": "stream",
     "text": [
      "Processing of CNRM-CM6-1-HR (France) is Done\n",
      "\n",
      "Precssing of CNRM-ESM2-1 (France) is started\n"
     ]
    },
    {
     "name": "stderr",
     "output_type": "stream",
     "text": [
      "processing Indices: 100%|██████████████████████████████████████████████████████████████| 12/12 [04:54<00:00, 24.57s/it]\n"
     ]
    },
    {
     "name": "stdout",
     "output_type": "stream",
     "text": [
      "Processing of CNRM-ESM2-1 (France) is Done\n",
      "\n",
      "Precssing of EC-Earth3 (Europe) is started\n"
     ]
    },
    {
     "name": "stderr",
     "output_type": "stream",
     "text": [
      "processing Indices: 100%|██████████████████████████████████████████████████████████████| 12/12 [05:29<00:00, 27.47s/it]\n"
     ]
    },
    {
     "name": "stdout",
     "output_type": "stream",
     "text": [
      "Processing of EC-Earth3 (Europe) is Done\n",
      "\n",
      "Precssing of EC-Earth3-Veg (Europe) is started\n"
     ]
    },
    {
     "name": "stderr",
     "output_type": "stream",
     "text": [
      "processing Indices: 100%|██████████████████████████████████████████████████████████████| 12/12 [06:30<00:00, 32.54s/it]\n"
     ]
    },
    {
     "name": "stdout",
     "output_type": "stream",
     "text": [
      "Processing of EC-Earth3-Veg (Europe) is Done\n",
      "\n",
      "Precssing of EC-Earth3-Veg-LR (Europe) is started\n"
     ]
    },
    {
     "name": "stderr",
     "output_type": "stream",
     "text": [
      "processing Indices: 100%|██████████████████████████████████████████████████████████████| 12/12 [06:43<00:00, 33.64s/it]\n"
     ]
    },
    {
     "name": "stdout",
     "output_type": "stream",
     "text": [
      "Processing of EC-Earth3-Veg-LR (Europe) is Done\n",
      "\n",
      "Precssing of FGOALS-f3-L (China) is started\n"
     ]
    },
    {
     "name": "stderr",
     "output_type": "stream",
     "text": [
      "processing Indices: 100%|██████████████████████████████████████████████████████████████| 12/12 [06:30<00:00, 32.50s/it]\n"
     ]
    },
    {
     "name": "stdout",
     "output_type": "stream",
     "text": [
      "Processing of FGOALS-f3-L (China) is Done\n",
      "\n",
      "Precssing of FGOALS-g3 (China) is started\n"
     ]
    },
    {
     "name": "stderr",
     "output_type": "stream",
     "text": [
      "processing Indices: 100%|██████████████████████████████████████████████████████████████| 12/12 [06:40<00:00, 33.36s/it]\n"
     ]
    },
    {
     "name": "stdout",
     "output_type": "stream",
     "text": [
      "Processing of FGOALS-g3 (China) is Done\n",
      "\n",
      "Precssing of FIO-ESM-2-0 (China) is started\n"
     ]
    },
    {
     "name": "stderr",
     "output_type": "stream",
     "text": [
      "processing Indices: 100%|██████████████████████████████████████████████████████████████| 12/12 [06:38<00:00, 33.24s/it]\n"
     ]
    },
    {
     "name": "stdout",
     "output_type": "stream",
     "text": [
      "Processing of FIO-ESM-2-0 (China) is Done\n",
      "\n",
      "Precssing of GFDL-ESM4 (USA) is started\n"
     ]
    },
    {
     "name": "stderr",
     "output_type": "stream",
     "text": [
      "processing Indices: 100%|██████████████████████████████████████████████████████████████| 12/12 [06:46<00:00, 33.90s/it]\n"
     ]
    },
    {
     "name": "stdout",
     "output_type": "stream",
     "text": [
      "Processing of GFDL-ESM4 (USA) is Done\n",
      "\n",
      "Precssing of GISS-E2-1-G (USA) is started\n"
     ]
    },
    {
     "name": "stderr",
     "output_type": "stream",
     "text": [
      "processing Indices: 100%|██████████████████████████████████████████████████████████████| 12/12 [06:14<00:00, 31.21s/it]\n"
     ]
    },
    {
     "name": "stdout",
     "output_type": "stream",
     "text": [
      "Processing of GISS-E2-1-G (USA) is Done\n",
      "\n",
      "Precssing of GISS-E2-1-H (USA) is started\n"
     ]
    },
    {
     "name": "stderr",
     "output_type": "stream",
     "text": [
      "processing Indices: 100%|██████████████████████████████████████████████████████████████| 12/12 [05:42<00:00, 28.57s/it]\n"
     ]
    },
    {
     "name": "stdout",
     "output_type": "stream",
     "text": [
      "Processing of GISS-E2-1-H (USA) is Done\n",
      "\n",
      "Precssing of HadGEM3-GC31-LL (UK) is started\n"
     ]
    },
    {
     "name": "stderr",
     "output_type": "stream",
     "text": [
      "processing Indices: 100%|██████████████████████████████████████████████████████████████| 12/12 [05:11<00:00, 25.93s/it]\n"
     ]
    },
    {
     "name": "stdout",
     "output_type": "stream",
     "text": [
      "Processing of HadGEM3-GC31-LL (UK) is Done\n",
      "\n",
      "Precssing of IITM-ESM (India) is started\n"
     ]
    },
    {
     "name": "stderr",
     "output_type": "stream",
     "text": [
      "processing Indices: 100%|██████████████████████████████████████████████████████████████| 12/12 [05:06<00:00, 25.53s/it]\n"
     ]
    },
    {
     "name": "stdout",
     "output_type": "stream",
     "text": [
      "Processing of IITM-ESM (India) is Done\n",
      "\n",
      "Precssing of INM-CM4-8 (Russia) is started\n"
     ]
    },
    {
     "name": "stderr",
     "output_type": "stream",
     "text": [
      "processing Indices: 100%|██████████████████████████████████████████████████████████████| 12/12 [05:21<00:00, 26.82s/it]\n"
     ]
    },
    {
     "name": "stdout",
     "output_type": "stream",
     "text": [
      "Processing of INM-CM4-8 (Russia) is Done\n",
      "\n",
      "Precssing of INM-CM5-0 (Russia) is started\n"
     ]
    },
    {
     "name": "stderr",
     "output_type": "stream",
     "text": [
      "processing Indices: 100%|██████████████████████████████████████████████████████████████| 12/12 [05:00<00:00, 25.06s/it]\n"
     ]
    },
    {
     "name": "stdout",
     "output_type": "stream",
     "text": [
      "Processing of INM-CM5-0 (Russia) is Done\n",
      "\n",
      "Precssing of IPSL-CM6A-LR (France) is started\n"
     ]
    },
    {
     "name": "stderr",
     "output_type": "stream",
     "text": [
      "processing Indices: 100%|██████████████████████████████████████████████████████████████| 12/12 [05:18<00:00, 26.52s/it]\n"
     ]
    },
    {
     "name": "stdout",
     "output_type": "stream",
     "text": [
      "Processing of IPSL-CM6A-LR (France) is Done\n",
      "\n",
      "Precssing of KACE-1-0-G (South Korea) is started\n"
     ]
    },
    {
     "name": "stderr",
     "output_type": "stream",
     "text": [
      "processing Indices: 100%|██████████████████████████████████████████████████████████████| 12/12 [04:58<00:00, 24.87s/it]\n"
     ]
    },
    {
     "name": "stdout",
     "output_type": "stream",
     "text": [
      "Processing of KACE-1-0-G (South Korea) is Done\n",
      "\n",
      "Precssing of KIOST-ESM (South Korea) is started\n"
     ]
    },
    {
     "name": "stderr",
     "output_type": "stream",
     "text": [
      "processing Indices: 100%|██████████████████████████████████████████████████████████████| 12/12 [05:10<00:00, 25.88s/it]\n"
     ]
    },
    {
     "name": "stdout",
     "output_type": "stream",
     "text": [
      "Processing of KIOST-ESM (South Korea) is Done\n",
      "\n",
      "Precssing of MIROC6 (Japan) is started\n"
     ]
    },
    {
     "name": "stderr",
     "output_type": "stream",
     "text": [
      "processing Indices: 100%|██████████████████████████████████████████████████████████████| 12/12 [05:28<00:00, 27.35s/it]\n"
     ]
    },
    {
     "name": "stdout",
     "output_type": "stream",
     "text": [
      "Processing of MIROC6 (Japan) is Done\n",
      "\n",
      "Precssing of MIROC-ES2H (Japan) is started\n"
     ]
    },
    {
     "name": "stderr",
     "output_type": "stream",
     "text": [
      "processing Indices: 100%|██████████████████████████████████████████████████████████████| 12/12 [06:10<00:00, 30.84s/it]\n"
     ]
    },
    {
     "name": "stdout",
     "output_type": "stream",
     "text": [
      "Processing of MIROC-ES2H (Japan) is Done\n",
      "\n",
      "Precssing of MIROC-ES2L (Japan) is started\n"
     ]
    },
    {
     "name": "stderr",
     "output_type": "stream",
     "text": [
      "processing Indices: 100%|██████████████████████████████████████████████████████████████| 12/12 [07:21<00:00, 36.79s/it]\n"
     ]
    },
    {
     "name": "stdout",
     "output_type": "stream",
     "text": [
      "Processing of MIROC-ES2L (Japan) is Done\n",
      "\n",
      "Precssing of MPI-ESM1-2-HR (Germany) is started\n"
     ]
    },
    {
     "name": "stderr",
     "output_type": "stream",
     "text": [
      "processing Indices: 100%|██████████████████████████████████████████████████████████████| 12/12 [07:11<00:00, 35.94s/it]\n"
     ]
    },
    {
     "name": "stdout",
     "output_type": "stream",
     "text": [
      "Processing of MPI-ESM1-2-HR (Germany) is Done\n",
      "\n",
      "Precssing of MPI-ESM1-2-LR (Germany) is started\n"
     ]
    },
    {
     "name": "stderr",
     "output_type": "stream",
     "text": [
      "processing Indices: 100%|██████████████████████████████████████████████████████████████| 12/12 [05:02<00:00, 25.18s/it]\n"
     ]
    },
    {
     "name": "stdout",
     "output_type": "stream",
     "text": [
      "Processing of MPI-ESM1-2-LR (Germany) is Done\n",
      "\n",
      "Precssing of MRI-ESM2-0 (Japan) is started\n"
     ]
    },
    {
     "name": "stderr",
     "output_type": "stream",
     "text": [
      "processing Indices: 100%|██████████████████████████████████████████████████████████████| 12/12 [05:25<00:00, 27.15s/it]\n"
     ]
    },
    {
     "name": "stdout",
     "output_type": "stream",
     "text": [
      "Processing of MRI-ESM2-0 (Japan) is Done\n",
      "\n",
      "Precssing of NorESM2-LM (Norway) is started\n"
     ]
    },
    {
     "name": "stderr",
     "output_type": "stream",
     "text": [
      "processing Indices: 100%|██████████████████████████████████████████████████████████████| 12/12 [05:19<00:00, 26.65s/it]\n"
     ]
    },
    {
     "name": "stdout",
     "output_type": "stream",
     "text": [
      "Processing of NorESM2-LM (Norway) is Done\n",
      "\n",
      "Precssing of NorESM2-MM (Norway) is started\n"
     ]
    },
    {
     "name": "stderr",
     "output_type": "stream",
     "text": [
      "processing Indices: 100%|██████████████████████████████████████████████████████████████| 12/12 [05:03<00:00, 25.27s/it]\n"
     ]
    },
    {
     "name": "stdout",
     "output_type": "stream",
     "text": [
      "Processing of NorESM2-MM (Norway) is Done\n",
      "\n",
      "Precssing of TaiESM1 is started\n"
     ]
    },
    {
     "name": "stderr",
     "output_type": "stream",
     "text": [
      "processing Indices: 100%|██████████████████████████████████████████████████████████████| 12/12 [04:55<00:00, 24.65s/it]\n"
     ]
    },
    {
     "name": "stdout",
     "output_type": "stream",
     "text": [
      "Processing of TaiESM1 is Done\n",
      "\n",
      "Precssing of UKESM1-0-LL is started\n"
     ]
    },
    {
     "name": "stderr",
     "output_type": "stream",
     "text": [
      "processing Indices: 100%|██████████████████████████████████████████████████████████████| 12/12 [04:37<00:00, 23.11s/it]\n"
     ]
    },
    {
     "name": "stdout",
     "output_type": "stream",
     "text": [
      "Processing of UKESM1-0-LL is Done\n",
      "\n",
      "Precssing of CESM2-WACCM (USA) is started\n"
     ]
    },
    {
     "name": "stderr",
     "output_type": "stream",
     "text": [
      "processing Indices: 100%|██████████████████████████████████████████████████████████████| 12/12 [05:33<00:00, 27.81s/it]"
     ]
    },
    {
     "name": "stdout",
     "output_type": "stream",
     "text": [
      "Processing of CESM2-WACCM (USA) is Done\n",
      "\n"
     ]
    },
    {
     "name": "stderr",
     "output_type": "stream",
     "text": [
      "\n"
     ]
    }
   ],
   "source": [
    "for model in models:\n",
    "    print(f'Precssing of {model} is started')\n",
    "    model_dir = os.path.join(data_dir, model)\n",
    "    model_dir_historical = os.path.join(data_dir, model, 'Historical')\n",
    "    \n",
    "    for index in tqdm(indices,\"processing Indices\"):\n",
    "        \n",
    "        index_file = os.path.join(model_dir_historical, f'resampled_{index}.nc')\n",
    "        data_array_historical = xr.open_dataset(index_file)[index]\n",
    "        data_array_annual_historical = aggregate_to_annual(data_array_historical)\n",
    "        \n",
    "        max_val, min_val = calculate_max_min_per_cell(data_array_annual_historical)  # got historical max and min value per cell of index\n",
    "        \n",
    "        for region in regions:\n",
    "            region_mask = (koppen_data == region).compute()\n",
    "            \n",
    "            region_max_val_per_cell = max_val.where(region_mask, other = np.nan)\n",
    "            region_min_val_per_cell = min_val.where(region_mask, other = np.nan)\n",
    "            \n",
    "            #region_mean_of_max_val_per_cell = region_max_val_per_cell.mean()\n",
    "            #region_mean_of_min_val_per_cell = region_min_val_per_cell.mean()\n",
    "            \n",
    "            #region_std_of_max_val_per_cell = region_max_val_per_cell.std()\n",
    "            #region_std_of_min_val_per_cell = region_min_val_per_cell.std()\n",
    "          \n",
    "            #Valid_max_val_for_region = region_max_val_per_cell.where((region_max_val_per_cell >= (region_mean_of_max_val_per_cell-3*region_std_of_max_val_per_cell)) & (region_max_val_per_cell <= (region_mean_of_max_val_per_cell + 3*region_std_of_max_val_per_cell)) , other = np.nan)\n",
    "            #Valid_min_val_for_region = region_min_val_per_cell.where((region_min_val_per_cell >= (region_mean_of_min_val_per_cell-3*region_std_of_min_val_per_cell)) & (region_min_val_per_cell <= (region_mean_of_min_val_per_cell + 3*region_std_of_min_val_per_cell)) , other = np.nan)\n",
    "            \n",
    "            Valid_max_val_for_region = region_max_val_per_cell\n",
    "            Valid_min_val_for_region = region_min_val_per_cell\n",
    "            \n",
    "            max_val_of_index_for_this_region = Valid_max_val_for_region.max()\n",
    "            min_val_of_index_for_this_region = Valid_min_val_for_region.min()\n",
    "            \n",
    "            max_min_results[region][index][model]['Historical'][\"max\"] = max_val_of_index_for_this_region\n",
    "            max_min_results[region][index][model]['Historical'][\"min\"] = min_val_of_index_for_this_region\n",
    "        \n",
    "    print(f'Processing of {model} is Done\\n')"
   ]
  },
  {
   "cell_type": "markdown",
   "id": "ff409060",
   "metadata": {},
   "source": [
    "## Finding Exposure Timing"
   ]
  },
  {
   "cell_type": "code",
   "execution_count": 6,
   "id": "da136731",
   "metadata": {},
   "outputs": [
    {
     "name": "stdout",
     "output_type": "stream",
     "text": [
      "Precssing of ACCESS-CM2 (Australia) is started\n"
     ]
    },
    {
     "name": "stderr",
     "output_type": "stream",
     "text": [
      "processing ACCESS-CM2 (Australia) SSP1-2.6 WCT: 100%|██████████████████████████████████| 12/12 [03:49<00:00, 19.15s/it]\n",
      "processing ACCESS-CM2 (Australia) SSP2-4.5 WCT: 100%|██████████████████████████████████| 12/12 [03:52<00:00, 19.41s/it]\n",
      "processing ACCESS-CM2 (Australia) SSP5-8.5 WCT: 100%|██████████████████████████████████| 12/12 [03:57<00:00, 19.78s/it]\n"
     ]
    },
    {
     "name": "stdout",
     "output_type": "stream",
     "text": [
      "Precssing of ACCESS-ESM1-5 (Australia) is started\n"
     ]
    },
    {
     "name": "stderr",
     "output_type": "stream",
     "text": [
      "processing ACCESS-ESM1-5 (Australia) SSP1-2.6 WCT: 100%|███████████████████████████████| 12/12 [04:20<00:00, 21.71s/it]\n",
      "processing ACCESS-ESM1-5 (Australia) SSP2-4.5 WCT: 100%|███████████████████████████████| 12/12 [04:51<00:00, 24.25s/it]\n",
      "processing ACCESS-ESM1-5 (Australia) SSP5-8.5 WCT: 100%|███████████████████████████████| 12/12 [04:32<00:00, 22.67s/it]\n"
     ]
    },
    {
     "name": "stdout",
     "output_type": "stream",
     "text": [
      "Precssing of CanESM5 (Canada) is started\n"
     ]
    },
    {
     "name": "stderr",
     "output_type": "stream",
     "text": [
      "processing CanESM5 (Canada) SSP1-2.6 WCT: 100%|████████████████████████████████████████| 12/12 [03:56<00:00, 19.74s/it]\n",
      "processing CanESM5 (Canada) SSP2-4.5 WCT: 100%|████████████████████████████████████████| 12/12 [04:09<00:00, 20.79s/it]\n",
      "processing CanESM5 (Canada) SSP5-8.5 WCT: 100%|████████████████████████████████████████| 12/12 [04:23<00:00, 21.92s/it]\n"
     ]
    },
    {
     "name": "stdout",
     "output_type": "stream",
     "text": [
      "Precssing of CanESM5-CanOE (Canada) is started\n"
     ]
    },
    {
     "name": "stderr",
     "output_type": "stream",
     "text": [
      "processing CanESM5-CanOE (Canada) SSP1-2.6 WCT: 100%|██████████████████████████████████| 12/12 [03:46<00:00, 18.91s/it]\n",
      "processing CanESM5-CanOE (Canada) SSP2-4.5 WCT: 100%|██████████████████████████████████| 12/12 [03:51<00:00, 19.29s/it]\n",
      "processing CanESM5-CanOE (Canada) SSP5-8.5 WCT: 100%|██████████████████████████████████| 12/12 [04:00<00:00, 20.03s/it]\n"
     ]
    },
    {
     "name": "stdout",
     "output_type": "stream",
     "text": [
      "Precssing of CESM2 (USA) is started\n"
     ]
    },
    {
     "name": "stderr",
     "output_type": "stream",
     "text": [
      "processing CESM2 (USA) SSP1-2.6 WCT: 100%|█████████████████████████████████████████████| 12/12 [04:17<00:00, 21.44s/it]\n",
      "processing CESM2 (USA) SSP2-4.5 WCT: 100%|█████████████████████████████████████████████| 12/12 [04:42<00:00, 23.54s/it]\n",
      "processing CESM2 (USA) SSP5-8.5 WCT: 100%|█████████████████████████████████████████████| 12/12 [03:19<00:00, 16.62s/it]\n"
     ]
    },
    {
     "name": "stdout",
     "output_type": "stream",
     "text": [
      "Precssing of CMCC-CM2-SR5 (Italy) is started\n"
     ]
    },
    {
     "name": "stderr",
     "output_type": "stream",
     "text": [
      "processing CMCC-CM2-SR5 (Italy) SSP1-2.6 WCT: 100%|████████████████████████████████████| 12/12 [04:01<00:00, 20.09s/it]\n",
      "processing CMCC-CM2-SR5 (Italy) SSP2-4.5 WCT: 100%|████████████████████████████████████| 12/12 [04:05<00:00, 20.50s/it]\n",
      "processing CMCC-CM2-SR5 (Italy) SSP5-8.5 WCT: 100%|████████████████████████████████████| 12/12 [04:18<00:00, 21.58s/it]\n"
     ]
    },
    {
     "name": "stdout",
     "output_type": "stream",
     "text": [
      "Precssing of CMCC-ESM2 (Italy) is started\n"
     ]
    },
    {
     "name": "stderr",
     "output_type": "stream",
     "text": [
      "processing CMCC-ESM2 (Italy) SSP1-2.6 WCT: 100%|███████████████████████████████████████| 12/12 [03:43<00:00, 18.62s/it]\n",
      "processing CMCC-ESM2 (Italy) SSP2-4.5 WCT: 100%|███████████████████████████████████████| 12/12 [03:52<00:00, 19.37s/it]\n",
      "processing CMCC-ESM2 (Italy) SSP5-8.5 WCT: 100%|███████████████████████████████████████| 12/12 [04:02<00:00, 20.23s/it]\n"
     ]
    },
    {
     "name": "stdout",
     "output_type": "stream",
     "text": [
      "Precssing of CNRM-CM6-1 (France) is started\n"
     ]
    },
    {
     "name": "stderr",
     "output_type": "stream",
     "text": [
      "processing CNRM-CM6-1 (France) SSP1-2.6 WCT: 100%|█████████████████████████████████████| 12/12 [05:01<00:00, 25.10s/it]\n",
      "processing CNRM-CM6-1 (France) SSP2-4.5 WCT: 100%|█████████████████████████████████████| 12/12 [04:08<00:00, 20.68s/it]\n",
      "processing CNRM-CM6-1 (France) SSP5-8.5 WCT: 100%|█████████████████████████████████████| 12/12 [03:45<00:00, 18.83s/it]\n"
     ]
    },
    {
     "name": "stdout",
     "output_type": "stream",
     "text": [
      "Precssing of CNRM-CM6-1-HR (France) is started\n"
     ]
    },
    {
     "name": "stderr",
     "output_type": "stream",
     "text": [
      "processing CNRM-CM6-1-HR (France) SSP1-2.6 WCT: 100%|██████████████████████████████████| 12/12 [04:24<00:00, 22.04s/it]\n",
      "processing CNRM-CM6-1-HR (France) SSP2-4.5 WCT: 100%|██████████████████████████████████| 12/12 [04:49<00:00, 24.12s/it]\n",
      "processing CNRM-CM6-1-HR (France) SSP5-8.5 WCT: 100%|██████████████████████████████████| 12/12 [04:34<00:00, 22.88s/it]\n"
     ]
    },
    {
     "name": "stdout",
     "output_type": "stream",
     "text": [
      "Precssing of CNRM-ESM2-1 (France) is started\n"
     ]
    },
    {
     "name": "stderr",
     "output_type": "stream",
     "text": [
      "processing CNRM-ESM2-1 (France) SSP1-2.6 WCT: 100%|████████████████████████████████████| 12/12 [04:06<00:00, 20.56s/it]\n",
      "processing CNRM-ESM2-1 (France) SSP2-4.5 WCT: 100%|████████████████████████████████████| 12/12 [04:21<00:00, 21.76s/it]\n",
      "processing CNRM-ESM2-1 (France) SSP5-8.5 WCT: 100%|████████████████████████████████████| 12/12 [04:45<00:00, 23.82s/it]\n"
     ]
    },
    {
     "name": "stdout",
     "output_type": "stream",
     "text": [
      "Precssing of EC-Earth3 (Europe) is started\n"
     ]
    },
    {
     "name": "stderr",
     "output_type": "stream",
     "text": [
      "processing EC-Earth3 (Europe) SSP1-2.6 WCT: 100%|██████████████████████████████████████| 12/12 [03:57<00:00, 19.81s/it]\n",
      "processing EC-Earth3 (Europe) SSP2-4.5 WCT: 100%|██████████████████████████████████████| 12/12 [04:04<00:00, 20.38s/it]\n",
      "processing EC-Earth3 (Europe) SSP5-8.5 WCT: 100%|██████████████████████████████████████| 12/12 [04:19<00:00, 21.59s/it]\n"
     ]
    },
    {
     "name": "stdout",
     "output_type": "stream",
     "text": [
      "Precssing of EC-Earth3-Veg (Europe) is started\n"
     ]
    },
    {
     "name": "stderr",
     "output_type": "stream",
     "text": [
      "processing EC-Earth3-Veg (Europe) SSP1-2.6 WCT: 100%|██████████████████████████████████| 12/12 [03:53<00:00, 19.45s/it]\n",
      "processing EC-Earth3-Veg (Europe) SSP2-4.5 WCT: 100%|██████████████████████████████████| 12/12 [03:55<00:00, 19.63s/it]\n",
      "processing EC-Earth3-Veg (Europe) SSP5-8.5 WCT: 100%|██████████████████████████████████| 12/12 [04:11<00:00, 20.94s/it]\n"
     ]
    },
    {
     "name": "stdout",
     "output_type": "stream",
     "text": [
      "Precssing of EC-Earth3-Veg-LR (Europe) is started\n"
     ]
    },
    {
     "name": "stderr",
     "output_type": "stream",
     "text": [
      "processing EC-Earth3-Veg-LR (Europe) SSP1-2.6 WCT: 100%|███████████████████████████████| 12/12 [03:45<00:00, 18.82s/it]\n",
      "processing EC-Earth3-Veg-LR (Europe) SSP2-4.5 WCT: 100%|███████████████████████████████| 12/12 [03:56<00:00, 19.70s/it]\n",
      "processing EC-Earth3-Veg-LR (Europe) SSP5-8.5 WCT: 100%|███████████████████████████████| 12/12 [04:05<00:00, 20.49s/it]\n"
     ]
    },
    {
     "name": "stdout",
     "output_type": "stream",
     "text": [
      "Precssing of FGOALS-f3-L (China) is started\n"
     ]
    },
    {
     "name": "stderr",
     "output_type": "stream",
     "text": [
      "processing FGOALS-f3-L (China) SSP1-2.6 WCT: 100%|█████████████████████████████████████| 12/12 [04:07<00:00, 20.64s/it]\n",
      "processing FGOALS-f3-L (China) SSP2-4.5 WCT: 100%|█████████████████████████████████████| 12/12 [03:51<00:00, 19.33s/it]\n",
      "processing FGOALS-f3-L (China) SSP5-8.5 WCT: 100%|█████████████████████████████████████| 12/12 [03:59<00:00, 19.98s/it]\n"
     ]
    },
    {
     "name": "stdout",
     "output_type": "stream",
     "text": [
      "Precssing of FGOALS-g3 (China) is started\n"
     ]
    },
    {
     "name": "stderr",
     "output_type": "stream",
     "text": [
      "processing FGOALS-g3 (China) SSP1-2.6 WCT: 100%|███████████████████████████████████████| 12/12 [04:07<00:00, 20.60s/it]\n",
      "processing FGOALS-g3 (China) SSP2-4.5 WCT: 100%|███████████████████████████████████████| 12/12 [03:51<00:00, 19.31s/it]\n",
      "processing FGOALS-g3 (China) SSP5-8.5 WCT: 100%|███████████████████████████████████████| 12/12 [04:11<00:00, 20.98s/it]\n"
     ]
    },
    {
     "name": "stdout",
     "output_type": "stream",
     "text": [
      "Precssing of FIO-ESM-2-0 (China) is started\n"
     ]
    },
    {
     "name": "stderr",
     "output_type": "stream",
     "text": [
      "processing FIO-ESM-2-0 (China) SSP1-2.6 WCT: 100%|█████████████████████████████████████| 12/12 [03:46<00:00, 18.90s/it]\n",
      "processing FIO-ESM-2-0 (China) SSP2-4.5 WCT: 100%|█████████████████████████████████████| 12/12 [03:56<00:00, 19.70s/it]\n",
      "processing FIO-ESM-2-0 (China) SSP5-8.5 WCT: 100%|█████████████████████████████████████| 12/12 [04:09<00:00, 20.79s/it]\n"
     ]
    },
    {
     "name": "stdout",
     "output_type": "stream",
     "text": [
      "Precssing of GFDL-ESM4 (USA) is started\n"
     ]
    },
    {
     "name": "stderr",
     "output_type": "stream",
     "text": [
      "processing GFDL-ESM4 (USA) SSP1-2.6 WCT: 100%|█████████████████████████████████████████| 12/12 [03:42<00:00, 18.52s/it]\n",
      "processing GFDL-ESM4 (USA) SSP2-4.5 WCT: 100%|█████████████████████████████████████████| 12/12 [03:57<00:00, 19.79s/it]\n",
      "processing GFDL-ESM4 (USA) SSP5-8.5 WCT: 100%|█████████████████████████████████████████| 12/12 [04:18<00:00, 21.50s/it]\n"
     ]
    },
    {
     "name": "stdout",
     "output_type": "stream",
     "text": [
      "Precssing of GISS-E2-1-G (USA) is started\n"
     ]
    },
    {
     "name": "stderr",
     "output_type": "stream",
     "text": [
      "processing GISS-E2-1-G (USA) SSP1-2.6 WCT: 100%|███████████████████████████████████████| 12/12 [03:50<00:00, 19.17s/it]\n",
      "processing GISS-E2-1-G (USA) SSP2-4.5 WCT: 100%|███████████████████████████████████████| 12/12 [04:06<00:00, 20.50s/it]\n",
      "processing GISS-E2-1-G (USA) SSP5-8.5 WCT: 100%|███████████████████████████████████████| 12/12 [04:23<00:00, 21.99s/it]\n"
     ]
    },
    {
     "name": "stdout",
     "output_type": "stream",
     "text": [
      "Precssing of GISS-E2-1-H (USA) is started\n"
     ]
    },
    {
     "name": "stderr",
     "output_type": "stream",
     "text": [
      "processing GISS-E2-1-H (USA) SSP1-2.6 WCT: 100%|███████████████████████████████████████| 12/12 [03:54<00:00, 19.53s/it]\n",
      "processing GISS-E2-1-H (USA) SSP2-4.5 WCT: 100%|███████████████████████████████████████| 12/12 [04:08<00:00, 20.73s/it]\n",
      "processing GISS-E2-1-H (USA) SSP5-8.5 WCT: 100%|███████████████████████████████████████| 12/12 [04:51<00:00, 24.28s/it]\n"
     ]
    },
    {
     "name": "stdout",
     "output_type": "stream",
     "text": [
      "Precssing of HadGEM3-GC31-LL (UK) is started\n"
     ]
    },
    {
     "name": "stderr",
     "output_type": "stream",
     "text": [
      "processing HadGEM3-GC31-LL (UK) SSP1-2.6 WCT: 100%|████████████████████████████████████| 12/12 [04:06<00:00, 20.56s/it]\n",
      "processing HadGEM3-GC31-LL (UK) SSP2-4.5 WCT: 100%|████████████████████████████████████| 12/12 [04:25<00:00, 22.15s/it]\n",
      "processing HadGEM3-GC31-LL (UK) SSP5-8.5 WCT: 100%|████████████████████████████████████| 12/12 [04:27<00:00, 22.33s/it]\n"
     ]
    },
    {
     "name": "stdout",
     "output_type": "stream",
     "text": [
      "Precssing of IITM-ESM (India) is started\n"
     ]
    },
    {
     "name": "stderr",
     "output_type": "stream",
     "text": [
      "processing IITM-ESM (India) SSP1-2.6 WCT: 100%|████████████████████████████████████████| 12/12 [04:19<00:00, 21.59s/it]\n",
      "processing IITM-ESM (India) SSP2-4.5 WCT: 100%|████████████████████████████████████████| 12/12 [04:35<00:00, 22.97s/it]\n",
      "processing IITM-ESM (India) SSP5-8.5 WCT: 100%|████████████████████████████████████████| 12/12 [03:45<00:00, 18.82s/it]\n"
     ]
    },
    {
     "name": "stdout",
     "output_type": "stream",
     "text": [
      "Precssing of INM-CM4-8 (Russia) is started\n"
     ]
    },
    {
     "name": "stderr",
     "output_type": "stream",
     "text": [
      "processing INM-CM4-8 (Russia) SSP1-2.6 WCT: 100%|██████████████████████████████████████| 12/12 [04:50<00:00, 24.20s/it]\n",
      "processing INM-CM4-8 (Russia) SSP2-4.5 WCT: 100%|██████████████████████████████████████| 12/12 [03:54<00:00, 19.51s/it]\n",
      "processing INM-CM4-8 (Russia) SSP5-8.5 WCT: 100%|██████████████████████████████████████| 12/12 [04:08<00:00, 20.67s/it]\n"
     ]
    },
    {
     "name": "stdout",
     "output_type": "stream",
     "text": [
      "Precssing of INM-CM5-0 (Russia) is started\n"
     ]
    },
    {
     "name": "stderr",
     "output_type": "stream",
     "text": [
      "processing INM-CM5-0 (Russia) SSP1-2.6 WCT: 100%|██████████████████████████████████████| 12/12 [04:12<00:00, 21.01s/it]\n",
      "processing INM-CM5-0 (Russia) SSP2-4.5 WCT: 100%|██████████████████████████████████████| 12/12 [04:04<00:00, 20.36s/it]\n",
      "processing INM-CM5-0 (Russia) SSP5-8.5 WCT: 100%|██████████████████████████████████████| 12/12 [04:04<00:00, 20.35s/it]\n"
     ]
    },
    {
     "name": "stdout",
     "output_type": "stream",
     "text": [
      "Precssing of IPSL-CM6A-LR (France) is started\n"
     ]
    },
    {
     "name": "stderr",
     "output_type": "stream",
     "text": [
      "processing IPSL-CM6A-LR (France) SSP1-2.6 WCT: 100%|███████████████████████████████████| 12/12 [04:08<00:00, 20.70s/it]\n",
      "processing IPSL-CM6A-LR (France) SSP2-4.5 WCT: 100%|███████████████████████████████████| 12/12 [03:56<00:00, 19.67s/it]\n",
      "processing IPSL-CM6A-LR (France) SSP5-8.5 WCT: 100%|███████████████████████████████████| 12/12 [04:11<00:00, 20.97s/it]\n"
     ]
    },
    {
     "name": "stdout",
     "output_type": "stream",
     "text": [
      "Precssing of KACE-1-0-G (South Korea) is started\n"
     ]
    },
    {
     "name": "stderr",
     "output_type": "stream",
     "text": [
      "processing KACE-1-0-G (South Korea) SSP1-2.6 WCT: 100%|████████████████████████████████| 12/12 [04:12<00:00, 21.04s/it]\n",
      "processing KACE-1-0-G (South Korea) SSP2-4.5 WCT: 100%|████████████████████████████████| 12/12 [03:53<00:00, 19.44s/it]\n",
      "processing KACE-1-0-G (South Korea) SSP5-8.5 WCT: 100%|████████████████████████████████| 12/12 [04:04<00:00, 20.37s/it]\n"
     ]
    },
    {
     "name": "stdout",
     "output_type": "stream",
     "text": [
      "Precssing of KIOST-ESM (South Korea) is started\n"
     ]
    },
    {
     "name": "stderr",
     "output_type": "stream",
     "text": [
      "processing KIOST-ESM (South Korea) SSP1-2.6 WCT: 100%|█████████████████████████████████| 12/12 [03:37<00:00, 18.15s/it]\n",
      "processing KIOST-ESM (South Korea) SSP2-4.5 WCT: 100%|█████████████████████████████████| 12/12 [03:35<00:00, 18.00s/it]\n",
      "processing KIOST-ESM (South Korea) SSP5-8.5 WCT: 100%|█████████████████████████████████| 12/12 [03:32<00:00, 17.68s/it]\n"
     ]
    },
    {
     "name": "stdout",
     "output_type": "stream",
     "text": [
      "Precssing of MIROC6 (Japan) is started\n"
     ]
    },
    {
     "name": "stderr",
     "output_type": "stream",
     "text": [
      "processing MIROC6 (Japan) SSP1-2.6 WCT: 100%|██████████████████████████████████████████| 12/12 [04:12<00:00, 21.02s/it]\n",
      "processing MIROC6 (Japan) SSP2-4.5 WCT: 100%|██████████████████████████████████████████| 12/12 [04:12<00:00, 21.07s/it]\n",
      "processing MIROC6 (Japan) SSP5-8.5 WCT: 100%|██████████████████████████████████████████| 12/12 [04:21<00:00, 21.79s/it]\n"
     ]
    },
    {
     "name": "stdout",
     "output_type": "stream",
     "text": [
      "Precssing of MIROC-ES2H (Japan) is started\n"
     ]
    },
    {
     "name": "stderr",
     "output_type": "stream",
     "text": [
      "processing MIROC-ES2H (Japan) SSP1-2.6 WCT: 100%|██████████████████████████████████████| 12/12 [04:35<00:00, 22.94s/it]\n",
      "processing MIROC-ES2H (Japan) SSP2-4.5 WCT: 100%|██████████████████████████████████████| 12/12 [05:01<00:00, 25.09s/it]\n",
      "processing MIROC-ES2H (Japan) SSP5-8.5 WCT: 100%|██████████████████████████████████████| 12/12 [05:03<00:00, 25.26s/it]\n"
     ]
    },
    {
     "name": "stdout",
     "output_type": "stream",
     "text": [
      "Precssing of MIROC-ES2L (Japan) is started\n"
     ]
    },
    {
     "name": "stderr",
     "output_type": "stream",
     "text": [
      "processing MIROC-ES2L (Japan) SSP1-2.6 WCT: 100%|██████████████████████████████████████| 12/12 [04:53<00:00, 24.44s/it]\n",
      "processing MIROC-ES2L (Japan) SSP2-4.5 WCT: 100%|██████████████████████████████████████| 12/12 [04:52<00:00, 24.41s/it]\n",
      "processing MIROC-ES2L (Japan) SSP5-8.5 WCT: 100%|██████████████████████████████████████| 12/12 [04:58<00:00, 24.91s/it]\n"
     ]
    },
    {
     "name": "stdout",
     "output_type": "stream",
     "text": [
      "Precssing of MPI-ESM1-2-HR (Germany) is started\n"
     ]
    },
    {
     "name": "stderr",
     "output_type": "stream",
     "text": [
      "processing MPI-ESM1-2-HR (Germany) SSP1-2.6 WCT: 100%|█████████████████████████████████| 12/12 [05:12<00:00, 26.04s/it]\n",
      "processing MPI-ESM1-2-HR (Germany) SSP2-4.5 WCT: 100%|█████████████████████████████████| 12/12 [05:03<00:00, 25.28s/it]\n",
      "processing MPI-ESM1-2-HR (Germany) SSP5-8.5 WCT: 100%|█████████████████████████████████| 12/12 [05:05<00:00, 25.47s/it]\n"
     ]
    },
    {
     "name": "stdout",
     "output_type": "stream",
     "text": [
      "Precssing of MPI-ESM1-2-LR (Germany) is started\n"
     ]
    },
    {
     "name": "stderr",
     "output_type": "stream",
     "text": [
      "processing MPI-ESM1-2-LR (Germany) SSP1-2.6 WCT: 100%|█████████████████████████████████| 12/12 [03:55<00:00, 19.59s/it]\n",
      "processing MPI-ESM1-2-LR (Germany) SSP2-4.5 WCT: 100%|█████████████████████████████████| 12/12 [04:04<00:00, 20.35s/it]\n",
      "processing MPI-ESM1-2-LR (Germany) SSP5-8.5 WCT: 100%|█████████████████████████████████| 12/12 [04:11<00:00, 20.99s/it]\n"
     ]
    },
    {
     "name": "stdout",
     "output_type": "stream",
     "text": [
      "Precssing of MRI-ESM2-0 (Japan) is started\n"
     ]
    },
    {
     "name": "stderr",
     "output_type": "stream",
     "text": [
      "processing MRI-ESM2-0 (Japan) SSP1-2.6 WCT: 100%|██████████████████████████████████████| 12/12 [04:36<00:00, 23.08s/it]\n",
      "processing MRI-ESM2-0 (Japan) SSP2-4.5 WCT: 100%|██████████████████████████████████████| 12/12 [04:14<00:00, 21.20s/it]\n",
      "processing MRI-ESM2-0 (Japan) SSP5-8.5 WCT: 100%|██████████████████████████████████████| 12/12 [04:19<00:00, 21.62s/it]\n"
     ]
    },
    {
     "name": "stdout",
     "output_type": "stream",
     "text": [
      "Precssing of NorESM2-LM (Norway) is started\n"
     ]
    },
    {
     "name": "stderr",
     "output_type": "stream",
     "text": [
      "processing NorESM2-LM (Norway) SSP1-2.6 WCT: 100%|█████████████████████████████████████| 12/12 [03:35<00:00, 17.99s/it]\n",
      "processing NorESM2-LM (Norway) SSP2-4.5 WCT: 100%|█████████████████████████████████████| 12/12 [03:41<00:00, 18.47s/it]\n",
      "processing NorESM2-LM (Norway) SSP5-8.5 WCT: 100%|█████████████████████████████████████| 12/12 [03:58<00:00, 19.83s/it]\n"
     ]
    },
    {
     "name": "stdout",
     "output_type": "stream",
     "text": [
      "Precssing of NorESM2-MM (Norway) is started\n"
     ]
    },
    {
     "name": "stderr",
     "output_type": "stream",
     "text": [
      "processing NorESM2-MM (Norway) SSP1-2.6 WCT: 100%|█████████████████████████████████████| 12/12 [04:00<00:00, 20.06s/it]\n",
      "processing NorESM2-MM (Norway) SSP2-4.5 WCT: 100%|█████████████████████████████████████| 12/12 [03:55<00:00, 19.59s/it]\n",
      "processing NorESM2-MM (Norway) SSP5-8.5 WCT: 100%|█████████████████████████████████████| 12/12 [03:53<00:00, 19.49s/it]\n"
     ]
    },
    {
     "name": "stdout",
     "output_type": "stream",
     "text": [
      "Precssing of TaiESM1 is started\n"
     ]
    },
    {
     "name": "stderr",
     "output_type": "stream",
     "text": [
      "processing TaiESM1 SSP1-2.6 WCT: 100%|█████████████████████████████████████████████████| 12/12 [04:44<00:00, 23.71s/it]\n",
      "processing TaiESM1 SSP2-4.5 WCT: 100%|█████████████████████████████████████████████████| 12/12 [04:18<00:00, 21.53s/it]\n",
      "processing TaiESM1 SSP5-8.5 WCT: 100%|█████████████████████████████████████████████████| 12/12 [03:52<00:00, 19.35s/it]\n"
     ]
    },
    {
     "name": "stdout",
     "output_type": "stream",
     "text": [
      "Precssing of UKESM1-0-LL is started\n"
     ]
    },
    {
     "name": "stderr",
     "output_type": "stream",
     "text": [
      "processing UKESM1-0-LL SSP1-2.6 WCT: 100%|█████████████████████████████████████████████| 12/12 [03:57<00:00, 19.78s/it]\n",
      "processing UKESM1-0-LL SSP2-4.5 WCT: 100%|█████████████████████████████████████████████| 12/12 [04:04<00:00, 20.36s/it]\n",
      "processing UKESM1-0-LL SSP5-8.5 WCT: 100%|█████████████████████████████████████████████| 12/12 [04:04<00:00, 20.38s/it]\n"
     ]
    },
    {
     "name": "stdout",
     "output_type": "stream",
     "text": [
      "Precssing of CESM2-WACCM (USA) is started\n"
     ]
    },
    {
     "name": "stderr",
     "output_type": "stream",
     "text": [
      "processing CESM2-WACCM (USA) SSP1-2.6 WCT: 100%|███████████████████████████████████████| 12/12 [03:32<00:00, 17.75s/it]\n",
      "processing CESM2-WACCM (USA) SSP2-4.5 WCT: 100%|███████████████████████████████████████| 12/12 [04:46<00:00, 23.88s/it]\n",
      "processing CESM2-WACCM (USA) SSP5-8.5 WCT: 100%|███████████████████████████████████████| 12/12 [04:02<00:00, 20.24s/it]\n"
     ]
    }
   ],
   "source": [
    "future_scenarios = ['SSP1-2.6','SSP2-4.5','SSP5-8.5']\n",
    "\n",
    "for model in models:\n",
    "    print(f'Precssing of {model} is started')\n",
    "    model_dir = os.path.join(data_dir, model)\n",
    "    \n",
    "    for scenario in future_scenarios:\n",
    "        scenario_dir = os.path.join(model_dir,scenario)\n",
    "\n",
    "        for index in tqdm(indices,f\"processing {model} {scenario} {index}\"):\n",
    "            index_file_of_scenario = os.path.join(scenario_dir,f'resampled_{index}.nc')\n",
    "            data_array_scenario = xr.open_dataset(index_file_of_scenario)[index]\n",
    "            data_array_annual_scenario = aggregate_to_annual(data_array_scenario)\n",
    "            \n",
    "            #filtering######################\n",
    "            # mean_val = data_array_annual_scenario.mean(dim='time')\n",
    "            # std_val = data_array_annual_scenario.std(dim='time')\n",
    "\n",
    "            # Exclude outliers within each grid cell\n",
    "            # valid_data = data_array_annual_scenario.where((data_array_annual_scenario >= (mean_val - 3 * std_val)) & (data_array_annual_scenario <= (mean_val + 3 * std_val)), other=np.nan)\n",
    "            \n",
    "            valid_data = data_array_annual_scenario\n",
    "            data_array_annual_scenario = valid_data\n",
    "            ################################\n",
    "            \n",
    "            filtered_scenario_data = data_array_annual_scenario  # for now assuming filter is applied\n",
    "\n",
    "            for region in regions:\n",
    "\n",
    "                region_mask = (koppen_data == region).compute()\n",
    "                \n",
    "                region_data = filtered_scenario_data.where(region_mask, other = np.nan)\n",
    "\n",
    "                max_cross_year = [] # years when index value will be higher than its historical max\n",
    "                min_cross_year = [] # years when index value will be lower than its historical min\n",
    "\n",
    "                max_value_for_region_per_year = region_data.max(dim='x').max(dim='y')\n",
    "                min_value_for_region_per_year = region_data.min(dim='x').min(dim='y')\n",
    "                \n",
    "                for i in range(85):\n",
    "                    if max_value_for_region_per_year[i] > max_min_results[region][index][model]['Historical'][\"max\"]:\n",
    "                        max_cross_year.append(2015+i)\n",
    "                    if min_value_for_region_per_year[i] < max_min_results[region][index][model]['Historical'][\"min\"]:\n",
    "                        min_cross_year.append(2015+i)\n",
    "                \n",
    "                max_min_results[region][index][model][scenario][\"max_cross_years\"] = max_cross_year\n",
    "                max_min_results[region][index][model][scenario][\"min_cross_years\"] = min_cross_year\n",
    "                \n",
    "                max_count = 1\n",
    "                max_consi_year = None\n",
    "                \n",
    "                for i in range(len(max_cross_year)):\n",
    "                    if(i==0):\n",
    "                        continue\n",
    "                    else:\n",
    "                        if(max_cross_year[i] == max_cross_year[i-1]+1):\n",
    "                            if(max_consi_year == None):\n",
    "                                max_consi_year = max_cross_year[i-1]\n",
    "                            max_count= max_count+1\n",
    "                            if(max_count>=5):\n",
    "                                break\n",
    "                        else:\n",
    "                            if(max_count>=5):\n",
    "                                break\n",
    "                            else:\n",
    "                                max_count=1;\n",
    "                                max_consi_year = None\n",
    "                                \n",
    "                    if (i == (len(max_cross_year)-1)) & (max_count<5):\n",
    "                        max_consi_year = None;\n",
    "\n",
    "                min_count = 1\n",
    "                min_consi_year= None\n",
    "                \n",
    "                for j in range(len(min_cross_year)):\n",
    "                    if(j == 0):\n",
    "                        continue\n",
    "                    else:\n",
    "                        if(min_cross_year[j] == min_cross_year[j-1]+1):\n",
    "                            if(min_consi_year == None):\n",
    "                                min_consi_year = min_cross_year[j-1]\n",
    "                            min_count= min_count+1\n",
    "                            if(min_count>=5):\n",
    "                                break\n",
    "                        else:\n",
    "                            if(min_count>=5):\n",
    "                                break\n",
    "                            else:\n",
    "                                min_count=1;\n",
    "                                min_consi_year = None\n",
    "                    if (j == (len(max_cross_year)-1)) & (max_count<5):\n",
    "                        max_consi_year = None;\n",
    "                \n",
    "                max_min_results[region][index][model][scenario][\"max_cross_consi\"] = max_consi_year\n",
    "                max_min_results[region][index][model][scenario][\"min_cross_consi\"] = min_consi_year\n",
    "                "
   ]
  },
  {
   "cell_type": "markdown",
   "id": "6a45a8a9",
   "metadata": {},
   "source": [
    "## Summary of Max & min values in history and exposure time of future of different models"
   ]
  },
  {
   "cell_type": "code",
   "execution_count": 7,
   "id": "8d64c2a4",
   "metadata": {},
   "outputs": [],
   "source": [
    "summary_results = []\n",
    "\n",
    "for region in regions:\n",
    "    for index in indices:\n",
    "        for model in models:\n",
    "            \n",
    "            #numpy_array = max_min_results[region][model][index][\"max\"].to_numpy()\n",
    "            max_vals = max_min_results[region][index][model]['Historical'][\"max\"].values\n",
    "            min_vals = max_min_results[region][index][model]['Historical'][\"min\"].values\n",
    "\n",
    "            max_ = np.nanmedian(max_vals)\n",
    "            min_ = np.nanmedian(min_vals)\n",
    "\n",
    "            summary_results.append({\n",
    "                \"Region\": region,\n",
    "                \"Index\": index,\n",
    "                \"Model\": model,\n",
    "                \"Historical Max\": max_,\n",
    "                \"Historical Min\": min_,\n",
    "\n",
    "                \"SSP1-2.6 Max_Cross_start_5_consicutive_years\": max_min_results[region][index][model]['SSP1-2.6'][\"max_cross_consi\"],\n",
    "                \"SSP1-2.6Min_Cross_start_5_consicutive_years\": max_min_results[region][index][model]['SSP1-2.6'][\"min_cross_consi\"],\n",
    "                \"SSP1-2.6Max_Cross_Years\": max_min_results[region][index][model]['SSP1-2.6'][\"max_cross_years\"],\n",
    "                \"SSP1-2.6Min_Cross_Years\": max_min_results[region][index][model]['SSP1-2.6'][\"min_cross_years\"],\n",
    "\n",
    "                \"SSP2-4.5 Max_Cross_start_5_consicutive_years\": max_min_results[region][index][model]['SSP2-4.5'][\"max_cross_consi\"],\n",
    "                \"SSP2-4.5 Min_Cross_start_5_consicutive_years\": max_min_results[region][index][model]['SSP2-4.5'][\"min_cross_consi\"],\n",
    "                \"SSP2-4.5 Max_Cross_Years\": max_min_results[region][index][model]['SSP2-4.5'][\"max_cross_years\"],\n",
    "                \"SSP2-4.5 Min_Cross_Years\": max_min_results[region][index][model]['SSP2-4.5'][\"min_cross_years\"],\n",
    "\n",
    "                \"SSP5-8.5 Max_Cross_start_5_consicutive_years\": max_min_results[region][index][model]['SSP5-8.5'][\"max_cross_consi\"],\n",
    "                \"SSP5-8.5 Min_Cross_start_5_consicutive_years\": max_min_results[region][index][model]['SSP5-8.5'][\"min_cross_consi\"],\n",
    "                \"SSP5-8.5 Max_Cross_Years\": max_min_results[region][index][model]['SSP5-8.5'][\"max_cross_years\"],\n",
    "                \"SSP5-8.5 Min_Cross_Years\": max_min_results[region][index][model]['SSP5-8.5'][\"min_cross_years\"],\n",
    "            })\n",
    "\n",
    "summary_df = pd.DataFrame(summary_results)"
   ]
  },
  {
   "cell_type": "code",
   "execution_count": 17,
   "id": "8e22bb53",
   "metadata": {},
   "outputs": [],
   "source": [
    "summary_df.to_excel('../Processed_Data/Output of analysis/Non-styled-complete-data.xlsx')"
   ]
  },
  {
   "cell_type": "markdown",
   "id": "27a3c8bd",
   "metadata": {},
   "source": [
    "Styling the dataframe"
   ]
  },
  {
   "cell_type": "code",
   "execution_count": 22,
   "id": "d06f9267",
   "metadata": {},
   "outputs": [],
   "source": [
    "styled_df = summary_df.style.set_properties(**{'text-align': 'center'})\n",
    "styled_df = styled_df.set_table_styles([dict(selector='th', props=[('text-align', 'left')])])\n",
    "styled_df = styled_df.set_table_styles([dict(selector='td', props=[('text-align', 'right')])])\n",
    "styled_df = styled_df.set_table_styles([dict(selector='th', props=[('font-weight', 'bold')])])\n",
    "styled_df = styled_df.set_table_styles([dict(selector='td', props=[('font-weight', 'normal')])])\n",
    "styled_df = styled_df.set_table_styles([dict(selector='th', props=[('background-color', '#f2f2f2')])])\n",
    "styled_df = styled_df.set_table_styles([dict(selector='td', props=[('background-color', '#e6e6e6')])])\n",
    "styled_df = styled_df.set_table_styles([dict(selector='th', props=[('border-bottom', '1px solid #ddd')])])\n",
    "styled_df = styled_df.set_table_styles([dict(selector='td', props=[('border-bottom', '1px solid #ddd')])])\n",
    "styled_df = styled_df.set_caption('Abrupt Values')\n",
    "styled_df = styled_df.format({ \"Region\": \"{:.0f}\",  \"Max\": \"{:.2f}\", \"Min\": \"{:.2f}\" })\n",
    "styled_df = styled_df.hide(axis='index')\n",
    "styled_df = styled_df.background_gradient(cmap='coolwarm')\n",
    "\n",
    "#styled_df = styled_df.bar(subset=['Max', 'Min'])\n",
    "\n",
    "# To display the styled DataFrame\n",
    "# styled_df"
   ]
  },
  {
   "cell_type": "code",
   "execution_count": 29,
   "id": "a724699a",
   "metadata": {},
   "outputs": [],
   "source": [
    "styled_df.to_html('../Processed_Data/Output of analysis/complete_data.html')"
   ]
  },
  {
   "cell_type": "code",
   "execution_count": 23,
   "id": "21fe1c15",
   "metadata": {},
   "outputs": [],
   "source": [
    "styled_df.to_excel('../Processed_Data/Output of analysis/complete_data.xlsx')"
   ]
  },
  {
   "cell_type": "code",
   "execution_count": 24,
   "id": "c5bc1ddf",
   "metadata": {},
   "outputs": [],
   "source": [
    "summary_df.to_csv('../Processed_Data/Output of analysis/Non-styled-complete_data.csv')"
   ]
  },
  {
   "cell_type": "markdown",
   "id": "22a77484",
   "metadata": {},
   "source": [
    "## Finding one value of time median"
   ]
  },
  {
   "cell_type": "code",
   "execution_count": 19,
   "id": "d5df8259",
   "metadata": {},
   "outputs": [],
   "source": [
    "final_results = {region: {index: {scenario: {\"median_max_cross_consi\": None, \"median_min_cross_consi\": None} for scenario in scenarios} for index in indices}  for region in regions}\n",
    "\n",
    "for region in regions:\n",
    "    for index in indices:\n",
    "        \n",
    "        max_min_list = {scenario: {'max_list' : [], 'min_list' : []} for scenario in scenarios}\n",
    "        \n",
    "        for scenario in scenarios:\n",
    "            for model in models:\n",
    "                if max_min_results[region][index][model][scenario]['max_cross_consi']:\n",
    "                    max_min_list[scenario]['max_list'].append(max_min_results[region][index][model][scenario]['max_cross_consi'])\n",
    "                if max_min_results[region][index][model][scenario]['min_cross_consi']:\n",
    "                    max_min_list[scenario]['min_list'].append(max_min_results[region][index][model][scenario]['min_cross_consi'])\n",
    "        \n",
    "            if len(max_min_list[scenario]['max_list'])!=0:\n",
    "                final_results[region][index][scenario]['median_max_cross_consi'] = statistics.median(max_min_list[scenario]['max_list'])\n",
    "\n",
    "            if len(max_min_list[scenario]['min_list'])!=0:\n",
    "                final_results[region][index][scenario]['median_min_cross_consi'] = statistics.median(max_min_list[scenario]['min_list'])"
   ]
  },
  {
   "cell_type": "code",
   "execution_count": 20,
   "id": "d6384704",
   "metadata": {},
   "outputs": [],
   "source": [
    "summary_median= []\n",
    "\n",
    "for region in regions:\n",
    "    for index in indices:\n",
    "                \n",
    "        summary_median.append({\n",
    "            \"Region\": region,\n",
    "            \"Index\": index,\n",
    "\n",
    "            \"Max_Median_SSP1-2.6\": final_results[region][index]['SSP1-2.6']['median_max_cross_consi'],\n",
    "            \"Min_Median_SSP1-2.6\": final_results[region][index]['SSP1-2.6']['median_min_cross_consi'],\n",
    "\n",
    "            \"Max_Median_SSP2-4.5\": final_results[region][index]['SSP2-4.5']['median_max_cross_consi'],\n",
    "            \"Min_Median_SSP2-4.5\": final_results[region][index]['SSP2-4.5']['median_min_cross_consi'],\n",
    "\n",
    "            \"Max_Median_SSP5-8.5\": final_results[region][index]['SSP5-8.5']['median_max_cross_consi'],\n",
    "            \"Min_Median_SSP5-8.5\": final_results[region][index]['SSP5-8.5']['median_min_cross_consi']\n",
    "        })\n",
    "\n",
    "\n",
    "summary_median_df = pd.DataFrame(summary_median)"
   ]
  },
  {
   "cell_type": "code",
   "execution_count": 25,
   "id": "d90a5b90",
   "metadata": {
    "scrolled": true
   },
   "outputs": [],
   "source": [
    "styled_median_df = summary_median_df.style.set_properties(**{'text-align': 'center'})\n",
    "styled_median_df = styled_median_df.set_table_styles([dict(selector='th', props=[('text-align', 'left')])])\n",
    "styled_median_df = styled_median_df.set_table_styles([dict(selector='td', props=[('text-align', 'right')])])\n",
    "styled_median_df = styled_median_df.set_table_styles([dict(selector='th', props=[('font-weight', 'bold')])])\n",
    "styled_median_df = styled_median_df.set_table_styles([dict(selector='td', props=[('font-weight', 'normal')])])\n",
    "styled_median_df = styled_median_df.set_table_styles([dict(selector='th', props=[('background-color', '#f2f2f2')])])\n",
    "styled_median_df = styled_median_df.set_table_styles([dict(selector='td', props=[('background-color', '#e6e6e6')])])\n",
    "styled_median_df = styled_median_df.set_table_styles([dict(selector='th', props=[('border-bottom', '1px solid #ddd')])])\n",
    "styled_median_df = styled_median_df.set_table_styles([dict(selector='td', props=[('border-bottom', '1px solid #ddd')])])\n",
    "styled_median_df = styled_median_df.set_caption('Abrupt Values')\n",
    "styled_median_df = styled_median_df.format({ \"Region\": \"{:.0f}\",  \"Max_Median\": \"{:.2f}\", \"Min_Median\": \"{:.2f}\" })\n",
    "styled_median_df = styled_median_df.hide(axis='index')\n",
    "styled_median_df = styled_median_df.background_gradient(cmap='coolwarm')\n",
    "\n",
    "#styled_df = styled_df.bar(subset=['Max_Median', 'Min_Median'])\n",
    "\n",
    "# To display the styled DataFrame\n",
    "# styled_median_df"
   ]
  },
  {
   "cell_type": "code",
   "execution_count": 26,
   "id": "e8d9426d",
   "metadata": {},
   "outputs": [],
   "source": [
    "styled_median_df.to_excel('../Processed_Data/Output of analysis/median_values_of_exposure_timing-final-summary.xlsx')"
   ]
  },
  {
   "cell_type": "code",
   "execution_count": 27,
   "id": "f4d6edba",
   "metadata": {},
   "outputs": [],
   "source": [
    "summary_median_df.to_csv('../Processed_Data/Output of analysis/median_values_of_exposure_timing-final-summary.csv')"
   ]
  },
  {
   "cell_type": "code",
   "execution_count": 28,
   "id": "d48c3752",
   "metadata": {},
   "outputs": [],
   "source": [
    "styled_median_df.to_html('../Processed_Data/Output of analysis/median_values_of_exposure_timing-final-summary.html')"
   ]
  },
  {
   "cell_type": "code",
   "execution_count": null,
   "id": "b815b3d2",
   "metadata": {},
   "outputs": [],
   "source": []
  }
 ],
 "metadata": {
  "kernelspec": {
   "display_name": "Python 3 (ipykernel)",
   "language": "python",
   "name": "python3"
  },
  "language_info": {
   "codemirror_mode": {
    "name": "ipython",
    "version": 3
   },
   "file_extension": ".py",
   "mimetype": "text/x-python",
   "name": "python",
   "nbconvert_exporter": "python",
   "pygments_lexer": "ipython3",
   "version": "3.11.7"
  }
 },
 "nbformat": 4,
 "nbformat_minor": 5
}
